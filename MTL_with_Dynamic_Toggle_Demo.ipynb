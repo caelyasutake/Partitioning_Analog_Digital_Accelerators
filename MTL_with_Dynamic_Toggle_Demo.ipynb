{
  "nbformat": 4,
  "nbformat_minor": 0,
  "metadata": {
    "colab": {
      "provenance": [],
      "gpuType": "T4"
    },
    "kernelspec": {
      "name": "python3",
      "display_name": "Python 3"
    },
    "language_info": {
      "name": "python"
    },
    "accelerator": "GPU"
  },
  "cells": [
    {
      "cell_type": "code",
      "execution_count": null,
      "metadata": {
        "id": "D2lMJlsxTXq2"
      },
      "outputs": [],
      "source": [
        "import random\n",
        "import numpy as np\n",
        "import torch\n",
        "import torch.nn as nn\n",
        "import torch.nn.functional as F\n",
        "import torchvision\n",
        "import torchvision.transforms as transforms\n",
        "import torchvision.datasets as datasets\n",
        "from torch.utils.data import DataLoader,random_split,Dataset\n",
        "import torch.optim as optim\n",
        "from tqdm import tqdm\n",
        "from training_utils import *"
      ]
    },
    {
      "cell_type": "markdown",
      "source": [
        "MTL Model Adapted from: https://medium.com/@aminul.huq11/multi-task-learning-a-beginners-guide-a1fc17808688"
      ],
      "metadata": {
        "id": "eFzbjDOUaieK"
      }
    },
    {
      "cell_type": "code",
      "source": [
        "seed = 43\n",
        "random.seed(seed)\n",
        "np.random.seed(seed)\n",
        "torch.manual_seed(seed)\n",
        "\n",
        "torch.backends.cudnn.deterministic = True"
      ],
      "metadata": {
        "id": "SzeqRz33TjkG"
      },
      "execution_count": null,
      "outputs": []
    },
    {
      "cell_type": "code",
      "source": [
        "trainset = datasets.CIFAR10(root='./data/', train=True, download=True, transform=transforms.ToTensor())\n",
        "testset = datasets.CIFAR10(root='./data/', train=False, download=True, transform=transforms.ToTensor())\n",
        "\n",
        "labels_list = ['airplane','automobile','bird','cat','deer','dog','frog','horse','ship','truck']\n",
        "non_animal = [0,1,8,9]\n",
        "device = 'cuda'"
      ],
      "metadata": {
        "colab": {
          "base_uri": "https://localhost:8080/"
        },
        "id": "br9buSuuTlDc",
        "outputId": "6caa2c5a-54cf-4300-c783-4f24431aa012"
      },
      "execution_count": null,
      "outputs": [
        {
          "output_type": "stream",
          "name": "stdout",
          "text": [
            "Files already downloaded and verified\n",
            "Files already downloaded and verified\n"
          ]
        }
      ]
    },
    {
      "cell_type": "code",
      "source": [
        "class NewDataset(Dataset):\n",
        "\n",
        "    def __init__(self,data,transform=None):\n",
        "        self.data = data\n",
        "\n",
        "    def __len__(self):\n",
        "        return len(self.data)\n",
        "\n",
        "    def __getitem__(self,idx):\n",
        "        image = self.data[idx][0]\n",
        "        label1 = self.data[idx][1]          #original label\n",
        "        label2 = 0 if self.data[idx][1] in non_animal else 1       #animal or non-animal\n",
        "        return image, label1, label2"
      ],
      "metadata": {
        "id": "yv6FBMfTTmAA"
      },
      "execution_count": null,
      "outputs": []
    },
    {
      "cell_type": "code",
      "source": [
        "\n",
        "new_trainset = NewDataset(trainset,non_animal)\n",
        "new_testset = NewDataset(testset,non_animal)\n",
        "\n",
        "train_set, valid_set = random_split(new_trainset,[int(len(new_trainset)*0.9), int(len(new_trainset)*0.1)],\n",
        "                                  generator=torch.Generator().manual_seed(0))\n",
        "\n",
        "train_loader = DataLoader(train_set, batch_size=100, shuffle=True)\n",
        "valid_loader = DataLoader(valid_set, batch_size=100, shuffle=True)\n",
        "test_loader = DataLoader(new_testset, batch_size=100, shuffle=True)"
      ],
      "metadata": {
        "id": "upbQPiSeTnwI"
      },
      "execution_count": null,
      "outputs": []
    },
    {
      "cell_type": "code",
      "source": [
        "class MTL_Net(nn.Module):\n",
        "    def __init__(self, input_channel, num_class):\n",
        "        super(MTL_Net,self).__init__()\n",
        "\n",
        "        self.classes = num_class\n",
        "\n",
        "        self.conv1 = nn.Conv2d(in_channels=input_channel,out_channels=8,kernel_size=3,stride=1)\n",
        "        self.conv2 = nn.Conv2d(in_channels=8,out_channels=16,kernel_size=3,stride=1)\n",
        "        self.fc1 = nn.Linear(64, 256)\n",
        "        self.dropout1 = nn.Dropout(0.3)\n",
        "        self.fc2 = nn.Linear(256,128)\n",
        "        self.dropout2 = nn.Dropout(0.3)\n",
        "\n",
        "        self.fc3 = nn.Linear(128, self.classes[0])\n",
        "        self.fc4 = nn.Linear(128, self.classes[1])\n",
        "\n",
        "    def forward(self, x):\n",
        "\n",
        "        x = F.max_pool2d(F.relu(self.conv1(x)),kernel_size=3)\n",
        "        x = F.max_pool2d(F.relu(self.conv2(x)),kernel_size=3)\n",
        "        x = F.relu(self.fc1(x.reshape(-1,x.shape[1] * x.shape[2]*x.shape[3])))\n",
        "        x = self.dropout1(x)\n",
        "        x = F.relu(self.fc2(x))\n",
        "        x = self.dropout2(x)\n",
        "        x1 = self.fc3(x)\n",
        "        x2 = self.fc4(x)\n",
        "\n",
        "        return x1,x2"
      ],
      "metadata": {
        "id": "8y8kYRa8TqKE"
      },
      "execution_count": null,
      "outputs": []
    },
    {
      "cell_type": "code",
      "source": [
        "class Net(nn.Module):\n",
        "    def __init__(self, input_channel, num_class):\n",
        "        super(Net,self).__init__()\n",
        "\n",
        "        self.classes = num_class\n",
        "\n",
        "        self.conv1 = nn.Conv2d(in_channels=input_channel,out_channels=8,kernel_size=3,stride=1)\n",
        "        self.conv2 = nn.Conv2d(in_channels=8,out_channels=16,kernel_size=3,stride=1)\n",
        "        self.fc1 = nn.Linear(64, 256)\n",
        "        self.dropout1 = nn.Dropout(0.3)\n",
        "        self.fc2 = nn.Linear(256,128)\n",
        "        self.dropout2 = nn.Dropout(0.3)\n",
        "\n",
        "        self.fc3 = nn.Linear(128, self.classes)\n",
        "\n",
        "    def forward(self, x):\n",
        "\n",
        "        x = F.max_pool2d(F.relu(self.conv1(x)),kernel_size=3)\n",
        "        x = F.max_pool2d(F.relu(self.conv2(x)),kernel_size=3)\n",
        "        x = F.relu(self.fc1(x.reshape(-1,x.shape[1] * x.shape[2]*x.shape[3])))\n",
        "        x = self.dropout1(x)\n",
        "        x = F.relu(self.fc2(x))\n",
        "        x = self.dropout2(x)\n",
        "        x1 = self.fc3(x)\n",
        "\n",
        "        return x1"
      ],
      "metadata": {
        "id": "vObF_ZUkTr2N"
      },
      "execution_count": null,
      "outputs": []
    },
    {
      "cell_type": "code",
      "source": [
        "num_classes = [10,2]\n",
        "model = MTL_Net(3,num_classes).to(device)\n",
        "\n",
        "criterion = nn.CrossEntropyLoss()\n",
        "optimizer = optim.SGD(model.parameters(), lr=0.001,momentum=0.9, weight_decay=5e-4)"
      ],
      "metadata": {
        "id": "msKOA6sCT6MW"
      },
      "execution_count": null,
      "outputs": []
    },
    {
      "cell_type": "code",
      "source": [
        "def train_model(model,trainloader,optim,criterion,epoch,device):\n",
        "    model.train()\n",
        "    train_loss,total,total_correct1,total_correct2 = 0,0,0,0\n",
        "\n",
        "    for i,(inputs,tg1,tg2) in enumerate(tqdm(trainloader)):\n",
        "\n",
        "        inputs,tg1,tg2 = inputs.to(device), tg1.to(device), tg2.to(device)\n",
        "        optim.zero_grad()\n",
        "\n",
        "        op1,op2 = model(inputs)\n",
        "        loss1 = criterion(op1,tg1)\n",
        "        loss2 = criterion(op2,tg2)\n",
        "\n",
        "        total_loss =  loss1 + loss2\n",
        "        total_loss.backward()\n",
        "\n",
        "        optim.step()\n",
        "\n",
        "        train_loss += loss1 + loss2\n",
        "        _,pd1 = torch.max(op1.data,1)\n",
        "        _,pd2 = torch.max(op2.data,1)\n",
        "\n",
        "        total_correct1 += (pd1 == tg1).sum().item()\n",
        "        total_correct2 += (pd2 == tg2).sum().item()\n",
        "\n",
        "        total += tg1.size(0)\n",
        "\n",
        "    print(\"Epoch: [{}]  loss: [{:.2f}] Original_task_acc [{:.2f}] animal_vs_non_animal_acc [{:.2f}]\".format\n",
        "                                                                          (epoch+1,train_loss/(i+1),\n",
        "                                                                           (total_correct1*100/total),\n",
        "                                                                          (total_correct2*100/total)))\n",
        "    return train_loss/(i+1)\n",
        "\n",
        "def train_single_model(model,trainloader,optim,criterion,epoch,device):\n",
        "    model.train()\n",
        "    train_loss,total,total_correct1 = 0,0,0\n",
        "\n",
        "    for i,(inputs,tg1,tg2) in enumerate(tqdm(trainloader)):\n",
        "\n",
        "        inputs,tg1,tg2 = inputs.to(device), tg1.to(device), tg2.to(device)\n",
        "        optim.zero_grad()\n",
        "\n",
        "        op = model(inputs)\n",
        "        loss1 = criterion(op,tg1) # Change tg1 to tg2 or vice versa based on the task\n",
        "\n",
        "        total_loss = loss1\n",
        "        total_loss.backward()\n",
        "\n",
        "        optim.step()\n",
        "\n",
        "        train_loss += loss1.item()\n",
        "        _,pd1 = torch.max(op.data,1)\n",
        "\n",
        "        total_correct1 += (pd1 == tg1).sum().item()\n",
        "\n",
        "        total += tg1.size(0)\n",
        "\n",
        "    print(\"Epoch: [{}]  loss: [{:.2f}] Acc [{:.2f}] \".format(epoch+1,train_loss/(i+1),\n",
        "                                                                           (total_correct1*100/total),\n",
        "                                                                          ))\n",
        "    return train_loss/(i+1)"
      ],
      "metadata": {
        "id": "8CbhgqSvT7o7"
      },
      "execution_count": null,
      "outputs": []
    },
    {
      "cell_type": "code",
      "source": [
        "def test_model(model,testloader,optim,criterion,epoch,device):\n",
        "    model.eval()\n",
        "    test_loss,total,total_correct1,total_correct2 = 0,0,0,0\n",
        "\n",
        "    with torch.no_grad():\n",
        "        for i,(inputs,tg1,tg2) in enumerate(tqdm(testloader)):\n",
        "\n",
        "            inputs,tg1,tg2 = inputs.to(device), tg1.to(device), tg2.to(device)\n",
        "\n",
        "            op1,op2 = model(inputs)\n",
        "            loss1 = criterion(op1,tg1)\n",
        "            loss2 = criterion(op2,tg2)\n",
        "\n",
        "            test_loss += loss1.item() + loss2.item()\n",
        "            _,pd1 = torch.max(op1.data,1)\n",
        "            _,pd2 = torch.max(op2.data,1)\n",
        "\n",
        "            total_correct1 += (pd1 == tg1).sum().item()\n",
        "            total_correct2 += (pd2 == tg2).sum().item()\n",
        "\n",
        "            total += tg1.size(0)\n",
        "\n",
        "    acc1 = 100. * total_correct1 / total\n",
        "    acc2 = 100. * total_correct2 / total\n",
        "    print(\"Test Epoch: [{}]  loss: [{:.2f}] Original_task_Acc [{:.2f}] animal_vs_non_animal_acc [{:.2f}]\".format\n",
        "                                                                          (epoch+1,test_loss/(i+1),\n",
        "                                                                           acc1,acc2))\n",
        "\n",
        "    return test_loss/(i+1), acc1, acc2\n",
        "\n",
        "def test_single_model(model,testloader,optim,criterion,epoch,device):\n",
        "    model.eval()\n",
        "    test_loss,total,total_correct1,total_correct2 = 0,0,0,0\n",
        "\n",
        "    with torch.no_grad():\n",
        "        for i,(inputs,tg1,tg2) in enumerate(tqdm(testloader)):\n",
        "\n",
        "            inputs,tg1,tg2 = inputs.to(device), tg1.to(device), tg2.to(device)\n",
        "\n",
        "            op = model(inputs)\n",
        "            loss1 = criterion(op,tg1)  # Change tg1 to tg2 or vice versa based on the task\n",
        "\n",
        "            test_loss += loss1.item()\n",
        "            _,pd1 = torch.max(op.data,1)\n",
        "\n",
        "            total_correct1 += (pd1 == tg1).sum().item()\n",
        "\n",
        "            total += tg1.size(0)\n",
        "\n",
        "    acc1 = 100. * total_correct1 / total\n",
        "\n",
        "    print(\"Test Epoch: [{}]  loss: [{:.2f}] Acc [{:.2f}] \".format(epoch+1,test_loss/(i+1),\n",
        "                                                                           acc1))\n",
        "\n",
        "    return test_loss/(i+1), acc1"
      ],
      "metadata": {
        "id": "Z8hvS3FAT9QX"
      },
      "execution_count": null,
      "outputs": []
    },
    {
      "cell_type": "code",
      "source": [
        "num_epochs = 50\n",
        "\n",
        "for epoch in range(num_epochs):\n",
        "\n",
        "    _ = train_model(model,train_loader,optimizer,criterion,epoch,device)\n",
        "    _,_,_ = test_model(model,valid_loader,optimizer,criterion,epoch,device)"
      ],
      "metadata": {
        "colab": {
          "base_uri": "https://localhost:8080/"
        },
        "id": "JB3sZ5kcT-sN",
        "outputId": "af25320b-49bb-463e-c987-cb02ddac52bc"
      },
      "execution_count": null,
      "outputs": [
        {
          "output_type": "stream",
          "name": "stderr",
          "text": [
            "100%|██████████| 450/450 [00:22<00:00, 20.00it/s]\n"
          ]
        },
        {
          "output_type": "stream",
          "name": "stdout",
          "text": [
            "Epoch: [1]  loss: [2.98] Original_task_acc [10.07] animal_vs_non_animal_acc [58.23]\n"
          ]
        },
        {
          "output_type": "stream",
          "name": "stderr",
          "text": [
            "100%|██████████| 50/50 [00:02<00:00, 24.30it/s]\n"
          ]
        },
        {
          "output_type": "stream",
          "name": "stdout",
          "text": [
            "Test Epoch: [1]  loss: [2.97] Original_task_Acc [10.08] animal_vs_non_animal_acc [60.90]\n"
          ]
        },
        {
          "output_type": "stream",
          "name": "stderr",
          "text": [
            "100%|██████████| 450/450 [00:23<00:00, 18.88it/s]\n"
          ]
        },
        {
          "output_type": "stream",
          "name": "stdout",
          "text": [
            "Epoch: [2]  loss: [2.97] Original_task_acc [10.50] animal_vs_non_animal_acc [59.90]\n"
          ]
        },
        {
          "output_type": "stream",
          "name": "stderr",
          "text": [
            "100%|██████████| 50/50 [00:01<00:00, 25.28it/s]\n"
          ]
        },
        {
          "output_type": "stream",
          "name": "stdout",
          "text": [
            "Test Epoch: [2]  loss: [2.97] Original_task_Acc [14.02] animal_vs_non_animal_acc [60.90]\n"
          ]
        },
        {
          "output_type": "stream",
          "name": "stderr",
          "text": [
            "100%|██████████| 450/450 [00:22<00:00, 20.31it/s]\n"
          ]
        },
        {
          "output_type": "stream",
          "name": "stdout",
          "text": [
            "Epoch: [3]  loss: [2.97] Original_task_acc [11.54] animal_vs_non_animal_acc [59.90]\n"
          ]
        },
        {
          "output_type": "stream",
          "name": "stderr",
          "text": [
            "100%|██████████| 50/50 [00:01<00:00, 25.40it/s]\n"
          ]
        },
        {
          "output_type": "stream",
          "name": "stdout",
          "text": [
            "Test Epoch: [3]  loss: [2.96] Original_task_Acc [14.26] animal_vs_non_animal_acc [60.90]\n"
          ]
        },
        {
          "output_type": "stream",
          "name": "stderr",
          "text": [
            "100%|██████████| 450/450 [00:20<00:00, 21.54it/s]\n"
          ]
        },
        {
          "output_type": "stream",
          "name": "stdout",
          "text": [
            "Epoch: [4]  loss: [2.94] Original_task_acc [13.87] animal_vs_non_animal_acc [61.56]\n"
          ]
        },
        {
          "output_type": "stream",
          "name": "stderr",
          "text": [
            "100%|██████████| 50/50 [00:01<00:00, 25.49it/s]\n"
          ]
        },
        {
          "output_type": "stream",
          "name": "stdout",
          "text": [
            "Test Epoch: [4]  loss: [2.88] Original_task_Acc [16.92] animal_vs_non_animal_acc [71.46]\n"
          ]
        },
        {
          "output_type": "stream",
          "name": "stderr",
          "text": [
            "100%|██████████| 450/450 [00:21<00:00, 21.34it/s]\n"
          ]
        },
        {
          "output_type": "stream",
          "name": "stdout",
          "text": [
            "Epoch: [5]  loss: [2.77] Original_task_acc [17.64] animal_vs_non_animal_acc [75.59]\n"
          ]
        },
        {
          "output_type": "stream",
          "name": "stderr",
          "text": [
            "100%|██████████| 50/50 [00:01<00:00, 25.47it/s]\n"
          ]
        },
        {
          "output_type": "stream",
          "name": "stdout",
          "text": [
            "Test Epoch: [5]  loss: [2.64] Original_task_Acc [19.62] animal_vs_non_animal_acc [78.36]\n"
          ]
        },
        {
          "output_type": "stream",
          "name": "stderr",
          "text": [
            "100%|██████████| 450/450 [00:21<00:00, 21.22it/s]\n"
          ]
        },
        {
          "output_type": "stream",
          "name": "stdout",
          "text": [
            "Epoch: [6]  loss: [2.58] Original_task_acc [19.27] animal_vs_non_animal_acc [79.10]\n"
          ]
        },
        {
          "output_type": "stream",
          "name": "stderr",
          "text": [
            "100%|██████████| 50/50 [00:02<00:00, 23.57it/s]\n"
          ]
        },
        {
          "output_type": "stream",
          "name": "stdout",
          "text": [
            "Test Epoch: [6]  loss: [2.49] Original_task_Acc [21.00] animal_vs_non_animal_acc [81.00]\n"
          ]
        },
        {
          "output_type": "stream",
          "name": "stderr",
          "text": [
            "100%|██████████| 450/450 [00:22<00:00, 19.99it/s]\n"
          ]
        },
        {
          "output_type": "stream",
          "name": "stdout",
          "text": [
            "Epoch: [7]  loss: [2.46] Original_task_acc [20.75] animal_vs_non_animal_acc [81.69]\n"
          ]
        },
        {
          "output_type": "stream",
          "name": "stderr",
          "text": [
            "100%|██████████| 50/50 [00:02<00:00, 24.56it/s]\n"
          ]
        },
        {
          "output_type": "stream",
          "name": "stdout",
          "text": [
            "Test Epoch: [7]  loss: [2.41] Original_task_Acc [22.36] animal_vs_non_animal_acc [82.32]\n"
          ]
        },
        {
          "output_type": "stream",
          "name": "stderr",
          "text": [
            "100%|██████████| 450/450 [00:20<00:00, 22.16it/s]\n"
          ]
        },
        {
          "output_type": "stream",
          "name": "stdout",
          "text": [
            "Epoch: [8]  loss: [2.39] Original_task_acc [21.90] animal_vs_non_animal_acc [83.00]\n"
          ]
        },
        {
          "output_type": "stream",
          "name": "stderr",
          "text": [
            "100%|██████████| 50/50 [00:02<00:00, 19.34it/s]\n"
          ]
        },
        {
          "output_type": "stream",
          "name": "stdout",
          "text": [
            "Test Epoch: [8]  loss: [2.34] Original_task_Acc [24.02] animal_vs_non_animal_acc [83.92]\n"
          ]
        },
        {
          "output_type": "stream",
          "name": "stderr",
          "text": [
            "100%|██████████| 450/450 [00:20<00:00, 22.25it/s]\n"
          ]
        },
        {
          "output_type": "stream",
          "name": "stdout",
          "text": [
            "Epoch: [9]  loss: [2.35] Original_task_acc [22.85] animal_vs_non_animal_acc [83.82]\n"
          ]
        },
        {
          "output_type": "stream",
          "name": "stderr",
          "text": [
            "100%|██████████| 50/50 [00:02<00:00, 18.00it/s]\n"
          ]
        },
        {
          "output_type": "stream",
          "name": "stdout",
          "text": [
            "Test Epoch: [9]  loss: [2.30] Original_task_Acc [25.58] animal_vs_non_animal_acc [84.56]\n"
          ]
        },
        {
          "output_type": "stream",
          "name": "stderr",
          "text": [
            "100%|██████████| 450/450 [00:20<00:00, 22.02it/s]\n"
          ]
        },
        {
          "output_type": "stream",
          "name": "stdout",
          "text": [
            "Epoch: [10]  loss: [2.29] Original_task_acc [24.48] animal_vs_non_animal_acc [85.30]\n"
          ]
        },
        {
          "output_type": "stream",
          "name": "stderr",
          "text": [
            "100%|██████████| 50/50 [00:01<00:00, 25.43it/s]\n"
          ]
        },
        {
          "output_type": "stream",
          "name": "stdout",
          "text": [
            "Test Epoch: [10]  loss: [2.24] Original_task_Acc [27.26] animal_vs_non_animal_acc [85.46]\n"
          ]
        },
        {
          "output_type": "stream",
          "name": "stderr",
          "text": [
            "100%|██████████| 450/450 [00:20<00:00, 21.60it/s]\n"
          ]
        },
        {
          "output_type": "stream",
          "name": "stdout",
          "text": [
            "Epoch: [11]  loss: [2.24] Original_task_acc [25.98] animal_vs_non_animal_acc [85.87]\n"
          ]
        },
        {
          "output_type": "stream",
          "name": "stderr",
          "text": [
            "100%|██████████| 50/50 [00:01<00:00, 25.04it/s]\n"
          ]
        },
        {
          "output_type": "stream",
          "name": "stdout",
          "text": [
            "Test Epoch: [11]  loss: [2.19] Original_task_Acc [30.00] animal_vs_non_animal_acc [86.30]\n"
          ]
        },
        {
          "output_type": "stream",
          "name": "stderr",
          "text": [
            "100%|██████████| 450/450 [00:21<00:00, 20.75it/s]\n"
          ]
        },
        {
          "output_type": "stream",
          "name": "stdout",
          "text": [
            "Epoch: [12]  loss: [2.18] Original_task_acc [28.24] animal_vs_non_animal_acc [86.79]\n"
          ]
        },
        {
          "output_type": "stream",
          "name": "stderr",
          "text": [
            "100%|██████████| 50/50 [00:01<00:00, 25.52it/s]\n"
          ]
        },
        {
          "output_type": "stream",
          "name": "stdout",
          "text": [
            "Test Epoch: [12]  loss: [2.16] Original_task_Acc [31.76] animal_vs_non_animal_acc [86.70]\n"
          ]
        },
        {
          "output_type": "stream",
          "name": "stderr",
          "text": [
            "100%|██████████| 450/450 [00:20<00:00, 21.56it/s]\n"
          ]
        },
        {
          "output_type": "stream",
          "name": "stdout",
          "text": [
            "Epoch: [13]  loss: [2.15] Original_task_acc [29.47] animal_vs_non_animal_acc [87.17]\n"
          ]
        },
        {
          "output_type": "stream",
          "name": "stderr",
          "text": [
            "100%|██████████| 50/50 [00:01<00:00, 25.11it/s]\n"
          ]
        },
        {
          "output_type": "stream",
          "name": "stdout",
          "text": [
            "Test Epoch: [13]  loss: [2.11] Original_task_Acc [33.36] animal_vs_non_animal_acc [87.20]\n"
          ]
        },
        {
          "output_type": "stream",
          "name": "stderr",
          "text": [
            "100%|██████████| 450/450 [00:20<00:00, 21.63it/s]\n"
          ]
        },
        {
          "output_type": "stream",
          "name": "stdout",
          "text": [
            "Epoch: [14]  loss: [2.11] Original_task_acc [30.72] animal_vs_non_animal_acc [87.40]\n"
          ]
        },
        {
          "output_type": "stream",
          "name": "stderr",
          "text": [
            "100%|██████████| 50/50 [00:01<00:00, 25.52it/s]\n"
          ]
        },
        {
          "output_type": "stream",
          "name": "stdout",
          "text": [
            "Test Epoch: [14]  loss: [2.08] Original_task_Acc [33.84] animal_vs_non_animal_acc [87.30]\n"
          ]
        },
        {
          "output_type": "stream",
          "name": "stderr",
          "text": [
            "100%|██████████| 450/450 [00:20<00:00, 22.07it/s]\n"
          ]
        },
        {
          "output_type": "stream",
          "name": "stdout",
          "text": [
            "Epoch: [15]  loss: [2.07] Original_task_acc [32.61] animal_vs_non_animal_acc [87.96]\n"
          ]
        },
        {
          "output_type": "stream",
          "name": "stderr",
          "text": [
            "100%|██████████| 50/50 [00:02<00:00, 19.13it/s]\n"
          ]
        },
        {
          "output_type": "stream",
          "name": "stdout",
          "text": [
            "Test Epoch: [15]  loss: [2.06] Original_task_Acc [34.56] animal_vs_non_animal_acc [87.60]\n"
          ]
        },
        {
          "output_type": "stream",
          "name": "stderr",
          "text": [
            "100%|██████████| 450/450 [00:20<00:00, 22.37it/s]\n"
          ]
        },
        {
          "output_type": "stream",
          "name": "stdout",
          "text": [
            "Epoch: [16]  loss: [2.04] Original_task_acc [33.82] animal_vs_non_animal_acc [88.23]\n"
          ]
        },
        {
          "output_type": "stream",
          "name": "stderr",
          "text": [
            "100%|██████████| 50/50 [00:02<00:00, 21.48it/s]\n"
          ]
        },
        {
          "output_type": "stream",
          "name": "stdout",
          "text": [
            "Test Epoch: [16]  loss: [2.11] Original_task_Acc [34.58] animal_vs_non_animal_acc [85.76]\n"
          ]
        },
        {
          "output_type": "stream",
          "name": "stderr",
          "text": [
            "100%|██████████| 450/450 [00:20<00:00, 21.98it/s]\n"
          ]
        },
        {
          "output_type": "stream",
          "name": "stdout",
          "text": [
            "Epoch: [17]  loss: [2.02] Original_task_acc [34.55] animal_vs_non_animal_acc [88.20]\n"
          ]
        },
        {
          "output_type": "stream",
          "name": "stderr",
          "text": [
            "100%|██████████| 50/50 [00:01<00:00, 25.27it/s]\n"
          ]
        },
        {
          "output_type": "stream",
          "name": "stdout",
          "text": [
            "Test Epoch: [17]  loss: [2.00] Original_task_Acc [36.14] animal_vs_non_animal_acc [88.20]\n"
          ]
        },
        {
          "output_type": "stream",
          "name": "stderr",
          "text": [
            "100%|██████████| 450/450 [00:21<00:00, 21.41it/s]\n"
          ]
        },
        {
          "output_type": "stream",
          "name": "stdout",
          "text": [
            "Epoch: [18]  loss: [2.00] Original_task_acc [35.09] animal_vs_non_animal_acc [88.57]\n"
          ]
        },
        {
          "output_type": "stream",
          "name": "stderr",
          "text": [
            "100%|██████████| 50/50 [00:01<00:00, 25.13it/s]\n"
          ]
        },
        {
          "output_type": "stream",
          "name": "stdout",
          "text": [
            "Test Epoch: [18]  loss: [1.98] Original_task_Acc [36.80] animal_vs_non_animal_acc [88.16]\n"
          ]
        },
        {
          "output_type": "stream",
          "name": "stderr",
          "text": [
            "100%|██████████| 450/450 [00:23<00:00, 19.47it/s]\n"
          ]
        },
        {
          "output_type": "stream",
          "name": "stdout",
          "text": [
            "Epoch: [19]  loss: [1.99] Original_task_acc [35.76] animal_vs_non_animal_acc [88.59]\n"
          ]
        },
        {
          "output_type": "stream",
          "name": "stderr",
          "text": [
            "100%|██████████| 50/50 [00:01<00:00, 25.19it/s]\n"
          ]
        },
        {
          "output_type": "stream",
          "name": "stdout",
          "text": [
            "Test Epoch: [19]  loss: [2.00] Original_task_Acc [36.58] animal_vs_non_animal_acc [87.52]\n"
          ]
        },
        {
          "output_type": "stream",
          "name": "stderr",
          "text": [
            "100%|██████████| 450/450 [00:20<00:00, 21.74it/s]\n"
          ]
        },
        {
          "output_type": "stream",
          "name": "stdout",
          "text": [
            "Epoch: [20]  loss: [1.97] Original_task_acc [36.66] animal_vs_non_animal_acc [88.72]\n"
          ]
        },
        {
          "output_type": "stream",
          "name": "stderr",
          "text": [
            "100%|██████████| 50/50 [00:01<00:00, 25.11it/s]\n"
          ]
        },
        {
          "output_type": "stream",
          "name": "stdout",
          "text": [
            "Test Epoch: [20]  loss: [1.96] Original_task_Acc [38.22] animal_vs_non_animal_acc [88.58]\n"
          ]
        },
        {
          "output_type": "stream",
          "name": "stderr",
          "text": [
            "100%|██████████| 450/450 [00:20<00:00, 21.55it/s]\n"
          ]
        },
        {
          "output_type": "stream",
          "name": "stdout",
          "text": [
            "Epoch: [21]  loss: [1.95] Original_task_acc [37.16] animal_vs_non_animal_acc [88.88]\n"
          ]
        },
        {
          "output_type": "stream",
          "name": "stderr",
          "text": [
            "100%|██████████| 50/50 [00:01<00:00, 25.12it/s]\n"
          ]
        },
        {
          "output_type": "stream",
          "name": "stdout",
          "text": [
            "Test Epoch: [21]  loss: [1.94] Original_task_Acc [38.34] animal_vs_non_animal_acc [88.74]\n"
          ]
        },
        {
          "output_type": "stream",
          "name": "stderr",
          "text": [
            "100%|██████████| 450/450 [00:20<00:00, 21.71it/s]\n"
          ]
        },
        {
          "output_type": "stream",
          "name": "stdout",
          "text": [
            "Epoch: [22]  loss: [1.94] Original_task_acc [37.39] animal_vs_non_animal_acc [88.98]\n"
          ]
        },
        {
          "output_type": "stream",
          "name": "stderr",
          "text": [
            "100%|██████████| 50/50 [00:02<00:00, 23.86it/s]\n"
          ]
        },
        {
          "output_type": "stream",
          "name": "stdout",
          "text": [
            "Test Epoch: [22]  loss: [1.93] Original_task_Acc [38.62] animal_vs_non_animal_acc [88.78]\n"
          ]
        },
        {
          "output_type": "stream",
          "name": "stderr",
          "text": [
            "100%|██████████| 450/450 [00:19<00:00, 22.51it/s]\n"
          ]
        },
        {
          "output_type": "stream",
          "name": "stdout",
          "text": [
            "Epoch: [23]  loss: [1.93] Original_task_acc [37.88] animal_vs_non_animal_acc [88.99]\n"
          ]
        },
        {
          "output_type": "stream",
          "name": "stderr",
          "text": [
            "100%|██████████| 50/50 [00:02<00:00, 17.38it/s]\n"
          ]
        },
        {
          "output_type": "stream",
          "name": "stdout",
          "text": [
            "Test Epoch: [23]  loss: [1.91] Original_task_Acc [39.36] animal_vs_non_animal_acc [88.92]\n"
          ]
        },
        {
          "output_type": "stream",
          "name": "stderr",
          "text": [
            "100%|██████████| 450/450 [00:20<00:00, 21.94it/s]\n"
          ]
        },
        {
          "output_type": "stream",
          "name": "stdout",
          "text": [
            "Epoch: [24]  loss: [1.92] Original_task_acc [38.49] animal_vs_non_animal_acc [89.23]\n"
          ]
        },
        {
          "output_type": "stream",
          "name": "stderr",
          "text": [
            "100%|██████████| 50/50 [00:02<00:00, 23.12it/s]\n"
          ]
        },
        {
          "output_type": "stream",
          "name": "stdout",
          "text": [
            "Test Epoch: [24]  loss: [1.93] Original_task_Acc [39.20] animal_vs_non_animal_acc [87.98]\n"
          ]
        },
        {
          "output_type": "stream",
          "name": "stderr",
          "text": [
            "100%|██████████| 450/450 [00:21<00:00, 20.82it/s]\n"
          ]
        },
        {
          "output_type": "stream",
          "name": "stdout",
          "text": [
            "Epoch: [25]  loss: [1.91] Original_task_acc [39.16] animal_vs_non_animal_acc [89.35]\n"
          ]
        },
        {
          "output_type": "stream",
          "name": "stderr",
          "text": [
            "100%|██████████| 50/50 [00:01<00:00, 25.17it/s]\n"
          ]
        },
        {
          "output_type": "stream",
          "name": "stdout",
          "text": [
            "Test Epoch: [25]  loss: [1.90] Original_task_Acc [40.04] animal_vs_non_animal_acc [89.04]\n"
          ]
        },
        {
          "output_type": "stream",
          "name": "stderr",
          "text": [
            "100%|██████████| 450/450 [00:20<00:00, 21.60it/s]\n"
          ]
        },
        {
          "output_type": "stream",
          "name": "stdout",
          "text": [
            "Epoch: [26]  loss: [1.90] Original_task_acc [39.22] animal_vs_non_animal_acc [89.15]\n"
          ]
        },
        {
          "output_type": "stream",
          "name": "stderr",
          "text": [
            "100%|██████████| 50/50 [00:01<00:00, 25.22it/s]\n"
          ]
        },
        {
          "output_type": "stream",
          "name": "stdout",
          "text": [
            "Test Epoch: [26]  loss: [1.90] Original_task_Acc [40.32] animal_vs_non_animal_acc [88.78]\n"
          ]
        },
        {
          "output_type": "stream",
          "name": "stderr",
          "text": [
            "100%|██████████| 450/450 [00:21<00:00, 20.82it/s]\n"
          ]
        },
        {
          "output_type": "stream",
          "name": "stdout",
          "text": [
            "Epoch: [27]  loss: [1.88] Original_task_acc [39.80] animal_vs_non_animal_acc [89.34]\n"
          ]
        },
        {
          "output_type": "stream",
          "name": "stderr",
          "text": [
            "100%|██████████| 50/50 [00:01<00:00, 25.17it/s]\n"
          ]
        },
        {
          "output_type": "stream",
          "name": "stdout",
          "text": [
            "Test Epoch: [27]  loss: [1.87] Original_task_Acc [41.12] animal_vs_non_animal_acc [89.18]\n"
          ]
        },
        {
          "output_type": "stream",
          "name": "stderr",
          "text": [
            "100%|██████████| 450/450 [00:20<00:00, 21.47it/s]\n"
          ]
        },
        {
          "output_type": "stream",
          "name": "stdout",
          "text": [
            "Epoch: [28]  loss: [1.87] Original_task_acc [40.20] animal_vs_non_animal_acc [89.38]\n"
          ]
        },
        {
          "output_type": "stream",
          "name": "stderr",
          "text": [
            "100%|██████████| 50/50 [00:02<00:00, 24.55it/s]\n"
          ]
        },
        {
          "output_type": "stream",
          "name": "stdout",
          "text": [
            "Test Epoch: [28]  loss: [1.86] Original_task_Acc [41.22] animal_vs_non_animal_acc [89.24]\n"
          ]
        },
        {
          "output_type": "stream",
          "name": "stderr",
          "text": [
            "100%|██████████| 450/450 [00:21<00:00, 21.41it/s]\n"
          ]
        },
        {
          "output_type": "stream",
          "name": "stdout",
          "text": [
            "Epoch: [29]  loss: [1.86] Original_task_acc [40.49] animal_vs_non_animal_acc [89.42]\n"
          ]
        },
        {
          "output_type": "stream",
          "name": "stderr",
          "text": [
            "100%|██████████| 50/50 [00:01<00:00, 25.55it/s]\n"
          ]
        },
        {
          "output_type": "stream",
          "name": "stdout",
          "text": [
            "Test Epoch: [29]  loss: [1.85] Original_task_Acc [41.78] animal_vs_non_animal_acc [89.18]\n"
          ]
        },
        {
          "output_type": "stream",
          "name": "stderr",
          "text": [
            "100%|██████████| 450/450 [00:22<00:00, 20.29it/s]\n"
          ]
        },
        {
          "output_type": "stream",
          "name": "stdout",
          "text": [
            "Epoch: [30]  loss: [1.85] Original_task_acc [40.84] animal_vs_non_animal_acc [89.63]\n"
          ]
        },
        {
          "output_type": "stream",
          "name": "stderr",
          "text": [
            "100%|██████████| 50/50 [00:01<00:00, 25.26it/s]\n"
          ]
        },
        {
          "output_type": "stream",
          "name": "stdout",
          "text": [
            "Test Epoch: [30]  loss: [1.84] Original_task_Acc [41.94] animal_vs_non_animal_acc [89.36]\n"
          ]
        },
        {
          "output_type": "stream",
          "name": "stderr",
          "text": [
            "100%|██████████| 450/450 [00:20<00:00, 22.16it/s]\n"
          ]
        },
        {
          "output_type": "stream",
          "name": "stdout",
          "text": [
            "Epoch: [31]  loss: [1.84] Original_task_acc [41.48] animal_vs_non_animal_acc [89.66]\n"
          ]
        },
        {
          "output_type": "stream",
          "name": "stderr",
          "text": [
            "100%|██████████| 50/50 [00:02<00:00, 18.22it/s]\n"
          ]
        },
        {
          "output_type": "stream",
          "name": "stdout",
          "text": [
            "Test Epoch: [31]  loss: [1.85] Original_task_Acc [42.44] animal_vs_non_animal_acc [88.48]\n"
          ]
        },
        {
          "output_type": "stream",
          "name": "stderr",
          "text": [
            "100%|██████████| 450/450 [00:20<00:00, 22.36it/s]\n"
          ]
        },
        {
          "output_type": "stream",
          "name": "stdout",
          "text": [
            "Epoch: [32]  loss: [1.82] Original_task_acc [41.69] animal_vs_non_animal_acc [89.80]\n"
          ]
        },
        {
          "output_type": "stream",
          "name": "stderr",
          "text": [
            "100%|██████████| 50/50 [00:02<00:00, 22.26it/s]\n"
          ]
        },
        {
          "output_type": "stream",
          "name": "stdout",
          "text": [
            "Test Epoch: [32]  loss: [1.82] Original_task_Acc [42.50] animal_vs_non_animal_acc [89.58]\n"
          ]
        },
        {
          "output_type": "stream",
          "name": "stderr",
          "text": [
            "100%|██████████| 450/450 [00:20<00:00, 21.77it/s]\n"
          ]
        },
        {
          "output_type": "stream",
          "name": "stdout",
          "text": [
            "Epoch: [33]  loss: [1.81] Original_task_acc [42.20] animal_vs_non_animal_acc [89.73]\n"
          ]
        },
        {
          "output_type": "stream",
          "name": "stderr",
          "text": [
            "100%|██████████| 50/50 [00:01<00:00, 25.24it/s]\n"
          ]
        },
        {
          "output_type": "stream",
          "name": "stdout",
          "text": [
            "Test Epoch: [33]  loss: [1.87] Original_task_Acc [42.62] animal_vs_non_animal_acc [88.54]\n"
          ]
        },
        {
          "output_type": "stream",
          "name": "stderr",
          "text": [
            "100%|██████████| 450/450 [00:21<00:00, 21.15it/s]\n"
          ]
        },
        {
          "output_type": "stream",
          "name": "stdout",
          "text": [
            "Epoch: [34]  loss: [1.80] Original_task_acc [42.72] animal_vs_non_animal_acc [89.76]\n"
          ]
        },
        {
          "output_type": "stream",
          "name": "stderr",
          "text": [
            "100%|██████████| 50/50 [00:01<00:00, 25.19it/s]\n"
          ]
        },
        {
          "output_type": "stream",
          "name": "stdout",
          "text": [
            "Test Epoch: [34]  loss: [1.83] Original_task_Acc [43.32] animal_vs_non_animal_acc [89.10]\n"
          ]
        },
        {
          "output_type": "stream",
          "name": "stderr",
          "text": [
            "100%|██████████| 450/450 [00:22<00:00, 20.26it/s]\n"
          ]
        },
        {
          "output_type": "stream",
          "name": "stdout",
          "text": [
            "Epoch: [35]  loss: [1.80] Original_task_acc [42.88] animal_vs_non_animal_acc [89.89]\n"
          ]
        },
        {
          "output_type": "stream",
          "name": "stderr",
          "text": [
            "100%|██████████| 50/50 [00:01<00:00, 25.04it/s]\n"
          ]
        },
        {
          "output_type": "stream",
          "name": "stdout",
          "text": [
            "Test Epoch: [35]  loss: [1.80] Original_task_Acc [43.44] animal_vs_non_animal_acc [89.34]\n"
          ]
        },
        {
          "output_type": "stream",
          "name": "stderr",
          "text": [
            "100%|██████████| 450/450 [00:21<00:00, 20.86it/s]\n"
          ]
        },
        {
          "output_type": "stream",
          "name": "stdout",
          "text": [
            "Epoch: [36]  loss: [1.79] Original_task_acc [43.60] animal_vs_non_animal_acc [89.81]\n"
          ]
        },
        {
          "output_type": "stream",
          "name": "stderr",
          "text": [
            "100%|██████████| 50/50 [00:01<00:00, 25.11it/s]\n"
          ]
        },
        {
          "output_type": "stream",
          "name": "stdout",
          "text": [
            "Test Epoch: [36]  loss: [1.81] Original_task_Acc [43.50] animal_vs_non_animal_acc [88.50]\n"
          ]
        },
        {
          "output_type": "stream",
          "name": "stderr",
          "text": [
            "100%|██████████| 450/450 [00:21<00:00, 21.30it/s]\n"
          ]
        },
        {
          "output_type": "stream",
          "name": "stdout",
          "text": [
            "Epoch: [37]  loss: [1.78] Original_task_acc [43.72] animal_vs_non_animal_acc [89.85]\n"
          ]
        },
        {
          "output_type": "stream",
          "name": "stderr",
          "text": [
            "100%|██████████| 50/50 [00:02<00:00, 22.50it/s]\n"
          ]
        },
        {
          "output_type": "stream",
          "name": "stdout",
          "text": [
            "Test Epoch: [37]  loss: [1.82] Original_task_Acc [44.12] animal_vs_non_animal_acc [88.22]\n"
          ]
        },
        {
          "output_type": "stream",
          "name": "stderr",
          "text": [
            "100%|██████████| 450/450 [00:21<00:00, 21.41it/s]\n"
          ]
        },
        {
          "output_type": "stream",
          "name": "stdout",
          "text": [
            "Epoch: [38]  loss: [1.76] Original_task_acc [44.21] animal_vs_non_animal_acc [90.08]\n"
          ]
        },
        {
          "output_type": "stream",
          "name": "stderr",
          "text": [
            "100%|██████████| 50/50 [00:01<00:00, 25.01it/s]\n"
          ]
        },
        {
          "output_type": "stream",
          "name": "stdout",
          "text": [
            "Test Epoch: [38]  loss: [1.79] Original_task_Acc [44.84] animal_vs_non_animal_acc [88.16]\n"
          ]
        },
        {
          "output_type": "stream",
          "name": "stderr",
          "text": [
            "100%|██████████| 450/450 [00:21<00:00, 20.76it/s]\n"
          ]
        },
        {
          "output_type": "stream",
          "name": "stdout",
          "text": [
            "Epoch: [39]  loss: [1.76] Original_task_acc [44.45] animal_vs_non_animal_acc [89.96]\n"
          ]
        },
        {
          "output_type": "stream",
          "name": "stderr",
          "text": [
            "100%|██████████| 50/50 [00:02<00:00, 23.38it/s]\n"
          ]
        },
        {
          "output_type": "stream",
          "name": "stdout",
          "text": [
            "Test Epoch: [39]  loss: [1.77] Original_task_Acc [45.16] animal_vs_non_animal_acc [89.36]\n"
          ]
        },
        {
          "output_type": "stream",
          "name": "stderr",
          "text": [
            "100%|██████████| 450/450 [00:20<00:00, 22.47it/s]\n"
          ]
        },
        {
          "output_type": "stream",
          "name": "stdout",
          "text": [
            "Epoch: [40]  loss: [1.74] Original_task_acc [44.80] animal_vs_non_animal_acc [90.14]\n"
          ]
        },
        {
          "output_type": "stream",
          "name": "stderr",
          "text": [
            "100%|██████████| 50/50 [00:02<00:00, 18.84it/s]\n"
          ]
        },
        {
          "output_type": "stream",
          "name": "stdout",
          "text": [
            "Test Epoch: [40]  loss: [1.75] Original_task_Acc [45.92] animal_vs_non_animal_acc [89.54]\n"
          ]
        },
        {
          "output_type": "stream",
          "name": "stderr",
          "text": [
            "100%|██████████| 450/450 [00:20<00:00, 22.22it/s]\n"
          ]
        },
        {
          "output_type": "stream",
          "name": "stdout",
          "text": [
            "Epoch: [41]  loss: [1.74] Original_task_acc [45.23] animal_vs_non_animal_acc [90.17]\n"
          ]
        },
        {
          "output_type": "stream",
          "name": "stderr",
          "text": [
            "100%|██████████| 50/50 [00:02<00:00, 24.85it/s]\n"
          ]
        },
        {
          "output_type": "stream",
          "name": "stdout",
          "text": [
            "Test Epoch: [41]  loss: [1.74] Original_task_Acc [45.70] animal_vs_non_animal_acc [89.78]\n"
          ]
        },
        {
          "output_type": "stream",
          "name": "stderr",
          "text": [
            "100%|██████████| 450/450 [00:21<00:00, 21.14it/s]\n"
          ]
        },
        {
          "output_type": "stream",
          "name": "stdout",
          "text": [
            "Epoch: [42]  loss: [1.73] Original_task_acc [45.65] animal_vs_non_animal_acc [90.17]\n"
          ]
        },
        {
          "output_type": "stream",
          "name": "stderr",
          "text": [
            "100%|██████████| 50/50 [00:02<00:00, 24.73it/s]\n"
          ]
        },
        {
          "output_type": "stream",
          "name": "stdout",
          "text": [
            "Test Epoch: [42]  loss: [1.82] Original_task_Acc [45.44] animal_vs_non_animal_acc [87.44]\n"
          ]
        },
        {
          "output_type": "stream",
          "name": "stderr",
          "text": [
            "100%|██████████| 450/450 [00:20<00:00, 21.60it/s]\n"
          ]
        },
        {
          "output_type": "stream",
          "name": "stdout",
          "text": [
            "Epoch: [43]  loss: [1.72] Original_task_acc [45.70] animal_vs_non_animal_acc [90.29]\n"
          ]
        },
        {
          "output_type": "stream",
          "name": "stderr",
          "text": [
            "100%|██████████| 50/50 [00:02<00:00, 24.69it/s]\n"
          ]
        },
        {
          "output_type": "stream",
          "name": "stdout",
          "text": [
            "Test Epoch: [43]  loss: [1.73] Original_task_Acc [46.56] animal_vs_non_animal_acc [89.32]\n"
          ]
        },
        {
          "output_type": "stream",
          "name": "stderr",
          "text": [
            "100%|██████████| 450/450 [00:22<00:00, 20.41it/s]\n"
          ]
        },
        {
          "output_type": "stream",
          "name": "stdout",
          "text": [
            "Epoch: [44]  loss: [1.70] Original_task_acc [46.34] animal_vs_non_animal_acc [90.34]\n"
          ]
        },
        {
          "output_type": "stream",
          "name": "stderr",
          "text": [
            "100%|██████████| 50/50 [00:01<00:00, 25.50it/s]\n"
          ]
        },
        {
          "output_type": "stream",
          "name": "stdout",
          "text": [
            "Test Epoch: [44]  loss: [1.72] Original_task_Acc [47.66] animal_vs_non_animal_acc [90.02]\n"
          ]
        },
        {
          "output_type": "stream",
          "name": "stderr",
          "text": [
            "100%|██████████| 450/450 [00:20<00:00, 21.60it/s]\n"
          ]
        },
        {
          "output_type": "stream",
          "name": "stdout",
          "text": [
            "Epoch: [45]  loss: [1.70] Original_task_acc [46.41] animal_vs_non_animal_acc [90.15]\n"
          ]
        },
        {
          "output_type": "stream",
          "name": "stderr",
          "text": [
            "100%|██████████| 50/50 [00:02<00:00, 24.77it/s]\n"
          ]
        },
        {
          "output_type": "stream",
          "name": "stdout",
          "text": [
            "Test Epoch: [45]  loss: [1.71] Original_task_Acc [47.86] animal_vs_non_animal_acc [89.92]\n"
          ]
        },
        {
          "output_type": "stream",
          "name": "stderr",
          "text": [
            "100%|██████████| 450/450 [00:20<00:00, 21.74it/s]\n"
          ]
        },
        {
          "output_type": "stream",
          "name": "stdout",
          "text": [
            "Epoch: [46]  loss: [1.69] Original_task_acc [46.67] animal_vs_non_animal_acc [90.40]\n"
          ]
        },
        {
          "output_type": "stream",
          "name": "stderr",
          "text": [
            "100%|██████████| 50/50 [00:02<00:00, 24.78it/s]\n"
          ]
        },
        {
          "output_type": "stream",
          "name": "stdout",
          "text": [
            "Test Epoch: [46]  loss: [1.73] Original_task_Acc [47.36] animal_vs_non_animal_acc [88.76]\n"
          ]
        },
        {
          "output_type": "stream",
          "name": "stderr",
          "text": [
            "100%|██████████| 450/450 [00:20<00:00, 22.37it/s]\n"
          ]
        },
        {
          "output_type": "stream",
          "name": "stdout",
          "text": [
            "Epoch: [47]  loss: [1.69] Original_task_acc [46.93] animal_vs_non_animal_acc [90.31]\n"
          ]
        },
        {
          "output_type": "stream",
          "name": "stderr",
          "text": [
            "100%|██████████| 50/50 [00:02<00:00, 17.70it/s]\n"
          ]
        },
        {
          "output_type": "stream",
          "name": "stdout",
          "text": [
            "Test Epoch: [47]  loss: [1.71] Original_task_Acc [47.84] animal_vs_non_animal_acc [90.00]\n"
          ]
        },
        {
          "output_type": "stream",
          "name": "stderr",
          "text": [
            "100%|██████████| 450/450 [00:20<00:00, 22.44it/s]\n"
          ]
        },
        {
          "output_type": "stream",
          "name": "stdout",
          "text": [
            "Epoch: [48]  loss: [1.68] Original_task_acc [47.40] animal_vs_non_animal_acc [90.42]\n"
          ]
        },
        {
          "output_type": "stream",
          "name": "stderr",
          "text": [
            "100%|██████████| 50/50 [00:02<00:00, 23.72it/s]\n"
          ]
        },
        {
          "output_type": "stream",
          "name": "stdout",
          "text": [
            "Test Epoch: [48]  loss: [1.70] Original_task_Acc [48.26] animal_vs_non_animal_acc [88.92]\n"
          ]
        },
        {
          "output_type": "stream",
          "name": "stderr",
          "text": [
            "100%|██████████| 450/450 [00:20<00:00, 21.79it/s]\n"
          ]
        },
        {
          "output_type": "stream",
          "name": "stdout",
          "text": [
            "Epoch: [49]  loss: [1.68] Original_task_acc [47.38] animal_vs_non_animal_acc [90.46]\n"
          ]
        },
        {
          "output_type": "stream",
          "name": "stderr",
          "text": [
            "100%|██████████| 50/50 [00:01<00:00, 25.26it/s]\n"
          ]
        },
        {
          "output_type": "stream",
          "name": "stdout",
          "text": [
            "Test Epoch: [49]  loss: [1.71] Original_task_Acc [48.46] animal_vs_non_animal_acc [89.78]\n"
          ]
        },
        {
          "output_type": "stream",
          "name": "stderr",
          "text": [
            "100%|██████████| 450/450 [00:20<00:00, 21.68it/s]\n"
          ]
        },
        {
          "output_type": "stream",
          "name": "stdout",
          "text": [
            "Epoch: [50]  loss: [1.67] Original_task_acc [47.83] animal_vs_non_animal_acc [90.57]\n"
          ]
        },
        {
          "output_type": "stream",
          "name": "stderr",
          "text": [
            "100%|██████████| 50/50 [00:01<00:00, 25.23it/s]"
          ]
        },
        {
          "output_type": "stream",
          "name": "stdout",
          "text": [
            "Test Epoch: [50]  loss: [1.70] Original_task_Acc [48.64] animal_vs_non_animal_acc [88.72]\n"
          ]
        },
        {
          "output_type": "stream",
          "name": "stderr",
          "text": [
            "\n"
          ]
        }
      ]
    },
    {
      "cell_type": "code",
      "source": [
        "_,_,_ = test_model(model,test_loader,optimizer,criterion,epoch,device)"
      ],
      "metadata": {
        "id": "xH_60W79T_cs"
      },
      "execution_count": null,
      "outputs": []
    },
    {
      "cell_type": "code",
      "source": [
        "num_classes = 10\n",
        "model = Net(3,num_classes).to(device)\n",
        "\n",
        "criterion = nn.CrossEntropyLoss()\n",
        "optimizer = optim.SGD(model.parameters(), lr=0.001,momentum=0.9, weight_decay=5e-4)"
      ],
      "metadata": {
        "id": "t_fAJiObUECF"
      },
      "execution_count": null,
      "outputs": []
    },
    {
      "cell_type": "code",
      "source": [
        "num_epochs = 50\n",
        "\n",
        "for epoch in range(num_epochs):\n",
        "\n",
        "    _ = train_single_model(model,train_loader,optimizer,criterion,epoch,device)\n",
        "    _,_ = test_single_model(model,valid_loader,optimizer,criterion,epoch,device)"
      ],
      "metadata": {
        "id": "7B9xIpKtUM5J"
      },
      "execution_count": null,
      "outputs": []
    },
    {
      "cell_type": "code",
      "source": [
        "\n",
        "_,_ = test_single_model(model,test_loader,optimizer,criterion,epoch,device)"
      ],
      "metadata": {
        "id": "c9oj0sdNUNuQ"
      },
      "execution_count": null,
      "outputs": []
    },
    {
      "cell_type": "markdown",
      "source": [
        "# AIHWKit"
      ],
      "metadata": {
        "id": "L51w2w_lU0M0"
      }
    },
    {
      "cell_type": "code",
      "source": [
        "!wget https://aihwkit-gpu-demo.s3.us-east.cloud-object-storage.appdomain.cloud/aihwkit-0.9.1+cuda117-cp310-cp310-manylinux_2_17_x86_64.manylinux2014_x86_64.whl\n",
        "!pip install aihwkit-0.9.1+cuda117-cp310-cp310-manylinux_2_17_x86_64.manylinux2014_x86_64.whl"
      ],
      "metadata": {
        "colab": {
          "base_uri": "https://localhost:8080/"
        },
        "id": "Iowrw-50UziZ",
        "outputId": "2e57a2e0-f991-4d2a-b75f-60ec21933509"
      },
      "execution_count": null,
      "outputs": [
        {
          "output_type": "stream",
          "name": "stdout",
          "text": [
            "--2024-12-18 15:34:42--  https://aihwkit-gpu-demo.s3.us-east.cloud-object-storage.appdomain.cloud/aihwkit-0.9.1+cuda117-cp310-cp310-manylinux_2_17_x86_64.manylinux2014_x86_64.whl\n",
            "Resolving aihwkit-gpu-demo.s3.us-east.cloud-object-storage.appdomain.cloud (aihwkit-gpu-demo.s3.us-east.cloud-object-storage.appdomain.cloud)... 169.63.118.98\n",
            "Connecting to aihwkit-gpu-demo.s3.us-east.cloud-object-storage.appdomain.cloud (aihwkit-gpu-demo.s3.us-east.cloud-object-storage.appdomain.cloud)|169.63.118.98|:443... connected.\n",
            "HTTP request sent, awaiting response... 200 OK\n",
            "Length: 379098522 (362M) [application/octet-stream]\n",
            "Saving to: ‘aihwkit-0.9.1+cuda117-cp310-cp310-manylinux_2_17_x86_64.manylinux2014_x86_64.whl.1’\n",
            "\n",
            "aihwkit-0.9.1+cuda1 100%[===================>] 361.54M  45.8MB/s    in 8.4s    \n",
            "\n",
            "2024-12-18 15:34:51 (43.3 MB/s) - ‘aihwkit-0.9.1+cuda117-cp310-cp310-manylinux_2_17_x86_64.manylinux2014_x86_64.whl.1’ saved [379098522/379098522]\n",
            "\n",
            "Processing ./aihwkit-0.9.1+cuda117-cp310-cp310-manylinux_2_17_x86_64.manylinux2014_x86_64.whl\n",
            "Requirement already satisfied: torch==2.0.1 in /usr/local/lib/python3.10/dist-packages (from aihwkit==0.9.1+cuda117) (2.0.1)\n",
            "Requirement already satisfied: torchvision in /usr/local/lib/python3.10/dist-packages (from aihwkit==0.9.1+cuda117) (0.15.2)\n",
            "Requirement already satisfied: scipy in /usr/local/lib/python3.10/dist-packages (from aihwkit==0.9.1+cuda117) (1.13.1)\n",
            "Requirement already satisfied: requests<3,>=2.25 in /usr/local/lib/python3.10/dist-packages (from aihwkit==0.9.1+cuda117) (2.32.3)\n",
            "Requirement already satisfied: numpy>=1.22 in /usr/local/lib/python3.10/dist-packages (from aihwkit==0.9.1+cuda117) (1.26.4)\n",
            "Requirement already satisfied: protobuf>=4.21.6 in /usr/local/lib/python3.10/dist-packages (from aihwkit==0.9.1+cuda117) (4.25.5)\n",
            "Requirement already satisfied: filelock in /usr/local/lib/python3.10/dist-packages (from torch==2.0.1->aihwkit==0.9.1+cuda117) (3.16.1)\n",
            "Requirement already satisfied: typing-extensions in /usr/local/lib/python3.10/dist-packages (from torch==2.0.1->aihwkit==0.9.1+cuda117) (4.12.2)\n",
            "Requirement already satisfied: sympy in /usr/local/lib/python3.10/dist-packages (from torch==2.0.1->aihwkit==0.9.1+cuda117) (1.13.1)\n",
            "Requirement already satisfied: networkx in /usr/local/lib/python3.10/dist-packages (from torch==2.0.1->aihwkit==0.9.1+cuda117) (3.4.2)\n",
            "Requirement already satisfied: jinja2 in /usr/local/lib/python3.10/dist-packages (from torch==2.0.1->aihwkit==0.9.1+cuda117) (3.1.4)\n",
            "Requirement already satisfied: nvidia-cuda-nvrtc-cu11==11.7.99 in /usr/local/lib/python3.10/dist-packages (from torch==2.0.1->aihwkit==0.9.1+cuda117) (11.7.99)\n",
            "Requirement already satisfied: nvidia-cuda-runtime-cu11==11.7.99 in /usr/local/lib/python3.10/dist-packages (from torch==2.0.1->aihwkit==0.9.1+cuda117) (11.7.99)\n",
            "Requirement already satisfied: nvidia-cuda-cupti-cu11==11.7.101 in /usr/local/lib/python3.10/dist-packages (from torch==2.0.1->aihwkit==0.9.1+cuda117) (11.7.101)\n",
            "Requirement already satisfied: nvidia-cudnn-cu11==8.5.0.96 in /usr/local/lib/python3.10/dist-packages (from torch==2.0.1->aihwkit==0.9.1+cuda117) (8.5.0.96)\n",
            "Requirement already satisfied: nvidia-cublas-cu11==11.10.3.66 in /usr/local/lib/python3.10/dist-packages (from torch==2.0.1->aihwkit==0.9.1+cuda117) (11.10.3.66)\n",
            "Requirement already satisfied: nvidia-cufft-cu11==10.9.0.58 in /usr/local/lib/python3.10/dist-packages (from torch==2.0.1->aihwkit==0.9.1+cuda117) (10.9.0.58)\n",
            "Requirement already satisfied: nvidia-curand-cu11==10.2.10.91 in /usr/local/lib/python3.10/dist-packages (from torch==2.0.1->aihwkit==0.9.1+cuda117) (10.2.10.91)\n",
            "Requirement already satisfied: nvidia-cusolver-cu11==11.4.0.1 in /usr/local/lib/python3.10/dist-packages (from torch==2.0.1->aihwkit==0.9.1+cuda117) (11.4.0.1)\n",
            "Requirement already satisfied: nvidia-cusparse-cu11==11.7.4.91 in /usr/local/lib/python3.10/dist-packages (from torch==2.0.1->aihwkit==0.9.1+cuda117) (11.7.4.91)\n",
            "Requirement already satisfied: nvidia-nccl-cu11==2.14.3 in /usr/local/lib/python3.10/dist-packages (from torch==2.0.1->aihwkit==0.9.1+cuda117) (2.14.3)\n",
            "Requirement already satisfied: nvidia-nvtx-cu11==11.7.91 in /usr/local/lib/python3.10/dist-packages (from torch==2.0.1->aihwkit==0.9.1+cuda117) (11.7.91)\n",
            "Requirement already satisfied: triton==2.0.0 in /usr/local/lib/python3.10/dist-packages (from torch==2.0.1->aihwkit==0.9.1+cuda117) (2.0.0)\n",
            "Requirement already satisfied: setuptools in /usr/local/lib/python3.10/dist-packages (from nvidia-cublas-cu11==11.10.3.66->torch==2.0.1->aihwkit==0.9.1+cuda117) (75.1.0)\n",
            "Requirement already satisfied: wheel in /usr/local/lib/python3.10/dist-packages (from nvidia-cublas-cu11==11.10.3.66->torch==2.0.1->aihwkit==0.9.1+cuda117) (0.45.1)\n",
            "Requirement already satisfied: cmake in /usr/local/lib/python3.10/dist-packages (from triton==2.0.0->torch==2.0.1->aihwkit==0.9.1+cuda117) (3.30.5)\n",
            "Requirement already satisfied: lit in /usr/local/lib/python3.10/dist-packages (from triton==2.0.0->torch==2.0.1->aihwkit==0.9.1+cuda117) (18.1.8)\n",
            "Requirement already satisfied: charset-normalizer<4,>=2 in /usr/local/lib/python3.10/dist-packages (from requests<3,>=2.25->aihwkit==0.9.1+cuda117) (3.4.0)\n",
            "Requirement already satisfied: idna<4,>=2.5 in /usr/local/lib/python3.10/dist-packages (from requests<3,>=2.25->aihwkit==0.9.1+cuda117) (3.10)\n",
            "Requirement already satisfied: urllib3<3,>=1.21.1 in /usr/local/lib/python3.10/dist-packages (from requests<3,>=2.25->aihwkit==0.9.1+cuda117) (2.2.3)\n",
            "Requirement already satisfied: certifi>=2017.4.17 in /usr/local/lib/python3.10/dist-packages (from requests<3,>=2.25->aihwkit==0.9.1+cuda117) (2024.8.30)\n",
            "Requirement already satisfied: pillow!=8.3.*,>=5.3.0 in /usr/local/lib/python3.10/dist-packages (from torchvision->aihwkit==0.9.1+cuda117) (11.0.0)\n",
            "Requirement already satisfied: MarkupSafe>=2.0 in /usr/local/lib/python3.10/dist-packages (from jinja2->torch==2.0.1->aihwkit==0.9.1+cuda117) (3.0.2)\n",
            "Requirement already satisfied: mpmath<1.4,>=1.1.0 in /usr/local/lib/python3.10/dist-packages (from sympy->torch==2.0.1->aihwkit==0.9.1+cuda117) (1.3.0)\n",
            "aihwkit is already installed with the same version as the provided wheel. Use --force-reinstall to force an installation of the wheel.\n"
          ]
        }
      ]
    },
    {
      "cell_type": "code",
      "source": [
        "from aihwkit.nn import AnalogConv2d, AnalogLinear\n",
        "from aihwkit.simulator.configs import InferenceRPUConfig\n",
        "from aihwkit.simulator.noise_models import PCMLikeNoiseModel\n",
        "import torch.nn.functional as F\n",
        "import torch.nn as nn"
      ],
      "metadata": {
        "colab": {
          "base_uri": "https://localhost:8080/"
        },
        "id": "An2oxaGtWZ9Q",
        "outputId": "90a18544-0a70-46a5-8a26-05a6e909cdf5"
      },
      "execution_count": null,
      "outputs": [
        {
          "output_type": "stream",
          "name": "stderr",
          "text": [
            "/usr/local/lib/python3.10/dist-packages/aihwkit/simulator/noise_models.py:18: FutureWarning: \n",
            "\n",
            "The `aihwkit.simulator.noise_models` module has been superseded by the `aihwkit.inference` module. Please replace `from aihwkit.simulator.noise_models import ...` with `from aihwkit.inference import ...` in your import statement.\n",
            "\n",
            "  warnings.warn(\n"
          ]
        }
      ]
    },
    {
      "cell_type": "code",
      "source": [
        "import random\n",
        "import numpy as np\n",
        "import torch\n",
        "import torch.nn as nn\n",
        "import torch.nn.functional as F\n",
        "import torchvision\n",
        "import torchvision.transforms as transforms\n",
        "import torchvision.datasets as datasets\n",
        "from torch.utils.data import DataLoader,random_split,Dataset\n",
        "import torch.optim as optim\n",
        "from tqdm import tqdm"
      ],
      "metadata": {
        "id": "vmG2Y2s0ac2Z"
      },
      "execution_count": null,
      "outputs": []
    },
    {
      "cell_type": "code",
      "source": [
        "def create_layer(layer_type, analog, *args, **kwargs):\n",
        "    \"\"\"\n",
        "    Dynamically creates a layer as analog or digital.\n",
        "\n",
        "    Parameters:\n",
        "    - layer_type: str, 'conv' for convolutional layers, 'linear' for fully connected layers.\n",
        "    - analog: bool, whether the layer should be analog.\n",
        "    - *args, **kwargs: additional arguments for layer initialization.\n",
        "\n",
        "    Returns:\n",
        "    - A layer (AnalogConv2d, AnalogLinear, nn.Conv2d, or nn.Linear).\n",
        "    \"\"\"\n",
        "    if analog:\n",
        "        rpu_config = InferenceRPUConfig()\n",
        "        rpu_config.noise_model = PCMLikeNoiseModel()  # Simulate PCM-like noise\n",
        "        rpu_config.forward.out_res = 1 / 128.0  # Simulate limited precision\n",
        "\n",
        "        if layer_type == 'conv':\n",
        "            return AnalogConv2d(*args, **kwargs, rpu_config=rpu_config)\n",
        "        elif layer_type == 'linear':\n",
        "            return AnalogLinear(*args, **kwargs, rpu_config=rpu_config)\n",
        "    else:\n",
        "        if layer_type == 'conv':\n",
        "            return nn.Conv2d(*args, **kwargs)\n",
        "        elif layer_type == 'linear':\n",
        "            return nn.Linear(*args, **kwargs)\n",
        "\n",
        "    raise ValueError(\"Invalid layer_type. Use 'conv' or 'linear'.\")"
      ],
      "metadata": {
        "id": "22z2cQohXUre"
      },
      "execution_count": null,
      "outputs": []
    },
    {
      "cell_type": "code",
      "source": [
        "class DynamicLayer(nn.Module):\n",
        "    def __init__(self, layer_type, *args, **kwargs):\n",
        "        \"\"\"\n",
        "        Dynamic Layer Wrapper for analog/digital layers.\n",
        "\n",
        "        Parameters:\n",
        "        - layer_type: str, either 'conv' or 'linear'.\n",
        "        - *args, **kwargs: Additional arguments for layer initialization.\n",
        "        \"\"\"\n",
        "        super(DynamicLayer, self).__init__()\n",
        "\n",
        "        self.layer_type = layer_type\n",
        "        self.args = args\n",
        "        self.kwargs = kwargs\n",
        "\n",
        "        # Initialize analog and digital layers\n",
        "        rpu_config = InferenceRPUConfig()\n",
        "        rpu_config.noise_model = PCMLikeNoiseModel()  # Simulate PCM-like noise\n",
        "        rpu_config.forward.out_res = 1 / 128.0  # Simulate limited precision\n",
        "\n",
        "        if layer_type == 'conv':\n",
        "            self.analog_layer = AnalogConv2d(*args, **kwargs, rpu_config=rpu_config)\n",
        "            self.digital_layer = nn.Conv2d(*args, **kwargs)\n",
        "        elif layer_type == 'linear':\n",
        "            self.analog_layer = AnalogLinear(*args, **kwargs, rpu_config=rpu_config)\n",
        "            self.digital_layer = nn.Linear(*args, **kwargs)\n",
        "        else:\n",
        "            raise ValueError(\"Invalid layer_type. Use 'conv' or 'linear'.\")\n",
        "\n",
        "        # Start with digital implementation\n",
        "        self.is_analog = False\n",
        "\n",
        "    def forward(self, x):\n",
        "        if self.is_analog:\n",
        "            return self.analog_layer(x)\n",
        "        else:\n",
        "            return self.digital_layer(x)\n",
        "\n",
        "    def toggle(self, is_analog):\n",
        "        \"\"\"\n",
        "        Switch between analog and digital implementation.\n",
        "\n",
        "        Parameters:\n",
        "        - is_analog: bool, whether to use the analog layer.\n",
        "        \"\"\"\n",
        "        self.is_analog = is_analog\n",
        "\n",
        "        # If switching to analog, synchronize weights\n",
        "        if self.is_analog:\n",
        "            if self.layer_type == 'conv':\n",
        "                self.analog_layer.set_weights(self.digital_layer.weight.detach().cpu().numpy().reshape(-1))\n",
        "            elif self.layer_type == 'linear':\n",
        "                self.analog_layer.set_weights(self.digital_layer.weight.detach().cpu().numpy(),\n",
        "                                               self.digital_layer.bias.detach().cpu().numpy())\n",
        "\n",
        "        # If switching to digital, synchronize weights\n",
        "        else:\n",
        "            if self.layer_type == 'conv':\n",
        "                weights = torch.tensor(self.analog_layer.get_weights()[0]).reshape(self.digital_layer.weight.shape)\n",
        "                self.digital_layer.weight.data.copy_(weights)\n",
        "            elif self.layer_type == 'linear':\n",
        "                weights, bias = self.analog_layer.get_weights()\n",
        "                self.digital_layer.weight.data.copy_(torch.tensor(weights))\n",
        "                self.digital_layer.bias.data.copy_(torch.tensor(bias))"
      ],
      "metadata": {
        "id": "ApG2MPZZWVjV"
      },
      "execution_count": null,
      "outputs": []
    },
    {
      "cell_type": "code",
      "source": [
        "class MTL_Net_DynamicToggle(nn.Module):\n",
        "    def __init__(self, input_channel, num_class):\n",
        "        super(MTL_Net_DynamicToggle, self).__init__()\n",
        "        self.classes = num_class\n",
        "\n",
        "        # Replace layers with dynamic layers\n",
        "        self.conv1 = DynamicLayer('conv', in_channels=input_channel, out_channels=8, kernel_size=3, stride=1)\n",
        "        self.conv2 = DynamicLayer('conv', in_channels=8, out_channels=16, kernel_size=3, stride=1)\n",
        "        self.fc1 = DynamicLayer('linear', 64, 256)\n",
        "        self.dropout1 = nn.Dropout(0.3)\n",
        "        self.fc2 = DynamicLayer('linear', 256, 128)\n",
        "        self.dropout2 = nn.Dropout(0.3)\n",
        "\n",
        "        # Task-specific layers remain digital\n",
        "        self.fc3 = nn.Linear(128, self.classes[0])\n",
        "        self.fc4 = nn.Linear(128, self.classes[1])\n",
        "\n",
        "    def forward(self, x):\n",
        "        x = F.max_pool2d(F.relu(self.conv1(x)), kernel_size=3)\n",
        "        x = F.max_pool2d(F.relu(self.conv2(x)), kernel_size=3)\n",
        "        x = F.relu(self.fc1(x.reshape(-1, x.shape[1] * x.shape[2] * x.shape[3])))\n",
        "        x = self.dropout1(x)\n",
        "        x = F.relu(self.fc2(x))\n",
        "        x = self.dropout2(x)\n",
        "        x1 = self.fc3(x)  # Task 1 output\n",
        "        x2 = self.fc4(x)  # Task 2 output\n",
        "\n",
        "        return x1, x2\n",
        "\n",
        "    def toggle_layer(self, layer_name, is_analog):\n",
        "        \"\"\"\n",
        "        Toggle a specific layer between analog and digital.\n",
        "        \"\"\"\n",
        "        getattr(self, layer_name).toggle(is_analog)\n"
      ],
      "metadata": {
        "id": "ej00m4D5Ylvi"
      },
      "execution_count": null,
      "outputs": []
    },
    {
      "cell_type": "code",
      "source": [
        "def train_model_dynamic(model, trainloader, optim, criterion, epoch, device, toggle_config=None):\n",
        "    \"\"\"\n",
        "    Train function with dynamic analog/digital toggling.\n",
        "\n",
        "    Parameters:\n",
        "    - toggle_config: dict, specifies which layers to toggle and when during training.\n",
        "                     Example: {'conv1': True, 'fc1': False}.\n",
        "    \"\"\"\n",
        "    model.train()  # Ensure the model is in training mode\n",
        "    train_loss, total, total_correct1, total_correct2 = 0, 0, 0, 0\n",
        "\n",
        "    # Apply toggling at the start of training (if toggle_config is provided)\n",
        "    if toggle_config:\n",
        "        for layer_name, is_analog in toggle_config.items():\n",
        "            model.toggle_layer(layer_name, is_analog)\n",
        "\n",
        "    for i, (inputs, tg1, tg2) in enumerate(tqdm(trainloader)):\n",
        "        inputs, tg1, tg2 = inputs.to(device), tg1.to(device), tg2.to(device)\n",
        "        optim.zero_grad()\n",
        "\n",
        "        # Forward pass through the model\n",
        "        op1, op2 = model(inputs)\n",
        "\n",
        "        # Compute losses for both tasks\n",
        "        loss1 = criterion(op1, tg1)\n",
        "        loss2 = criterion(op2, tg2)\n",
        "        total_loss = loss1 + loss2\n",
        "\n",
        "        # Backpropagation\n",
        "        total_loss.backward()\n",
        "\n",
        "        # Update weights\n",
        "        optim.step()\n",
        "\n",
        "        # Accumulate metrics\n",
        "        train_loss += total_loss.item()\n",
        "        _, pd1 = torch.max(op1.data, 1)\n",
        "        _, pd2 = torch.max(op2.data, 1)\n",
        "\n",
        "        total_correct1 += (pd1 == tg1).sum().item()\n",
        "        total_correct2 += (pd2 == tg2).sum().item()\n",
        "        total += tg1.size(0)\n",
        "\n",
        "    # Compute and log metrics\n",
        "    print(\"Epoch: [{}]  loss: [{:.2f}] Original_task_acc [{:.2f}] animal_vs_non_animal_acc [{:.2f}]\".format(\n",
        "        epoch + 1, train_loss / (i + 1),\n",
        "        (total_correct1 * 100 / total),\n",
        "        (total_correct2 * 100 / total)\n",
        "    ))\n",
        "\n",
        "    return train_loss / (i + 1)\n",
        "\n",
        "\n"
      ],
      "metadata": {
        "id": "-WMrYFD4W4gR"
      },
      "execution_count": null,
      "outputs": []
    },
    {
      "cell_type": "code",
      "source": [
        "def test_model_dynamic(model, testloader, criterion, epoch, device, toggle_config=None):\n",
        "    \"\"\"\n",
        "    Test function with dynamic analog/digital toggling.\n",
        "\n",
        "    Parameters:\n",
        "    - toggle_config: dict, specifies which layers to toggle during testing.\n",
        "                     Example: {'conv1': True, 'fc1': False}.\n",
        "    \"\"\"\n",
        "    model.eval()  # Ensure the model is in evaluation mode\n",
        "    test_loss, total, total_correct1, total_correct2 = 0, 0, 0, 0\n",
        "\n",
        "    # Apply toggling at the start of testing (if toggle_config is provided)\n",
        "    if toggle_config:\n",
        "        for layer_name, is_analog in toggle_config.items():\n",
        "            model.toggle_layer(layer_name, is_analog)\n",
        "\n",
        "    with torch.no_grad():\n",
        "        for i, (inputs, tg1, tg2) in enumerate(tqdm(testloader)):\n",
        "            inputs, tg1, tg2 = inputs.to(device), tg1.to(device), tg2.to(device)\n",
        "\n",
        "            # Forward pass through the model\n",
        "            op1, op2 = model(inputs)\n",
        "\n",
        "            # Compute losses for both tasks\n",
        "            loss1 = criterion(op1, tg1)\n",
        "            loss2 = criterion(op2, tg2)\n",
        "\n",
        "            # Accumulate metrics\n",
        "            test_loss += loss1.item() + loss2.item()\n",
        "            _, pd1 = torch.max(op1.data, 1)\n",
        "            _, pd2 = torch.max(op2.data, 1)\n",
        "\n",
        "            total_correct1 += (pd1 == tg1).sum().item()\n",
        "            total_correct2 += (pd2 == tg2).sum().item()\n",
        "            total += tg1.size(0)\n",
        "\n",
        "    # Compute accuracies\n",
        "    acc1 = 100. * total_correct1 / total\n",
        "    acc2 = 100. * total_correct2 / total\n",
        "\n",
        "    # Log metrics\n",
        "    print(\"Test Epoch: [{}]  loss: [{:.2f}] Original_task_Acc [{:.2f}] animal_vs_non_animal_acc [{:.2f}]\".format(\n",
        "        epoch + 1, test_loss / (i + 1), acc1, acc2\n",
        "    ))\n",
        "\n",
        "    return test_loss / (i + 1), acc1, acc2\n"
      ],
      "metadata": {
        "id": "bsj8YqyyX5XJ"
      },
      "execution_count": null,
      "outputs": []
    },
    {
      "cell_type": "code",
      "source": [
        "model = MTL_Net_DynamicToggle(input_channel=3, num_class=[10, 5]).to('cuda')\n",
        "\n",
        "model.toggle_layer('conv1', is_analog=False)\n",
        "model.toggle_layer('conv2', is_analog=False)\n",
        "model.toggle_layer('fc1', is_analog=False)\n",
        "model.toggle_layer('fc2', is_analog=False)\n",
        "\n",
        "optimizer = torch.optim.Adam(model.parameters(), lr=0.001)\n",
        "criterion = nn.CrossEntropyLoss()\n",
        "\n",
        "toggle_config_train = {\n",
        "    'conv1': False,  # Switch conv1 to analog\n",
        "    'fc1': False    # Keep fc1 as digital\n",
        "}\n",
        "\n",
        "toggle_config_test = {\n",
        "    'conv1': True,  # Switch conv1 to digital during testing\n",
        "    'fc1': True      # Switch fc1 to analog during testing\n",
        "}\n",
        "\n",
        "for epoch in range(50):\n",
        "    # Dynamically toggle during training\n",
        "    train_loss = train_model_dynamic(model, train_loader, optimizer, criterion, epoch, device='cuda', toggle_config=toggle_config_train)\n",
        "\n",
        "    # Dynamically toggle during testing\n",
        "    test_loss, acc1, acc2 = test_model_dynamic(model, test_loader, criterion, epoch, device='cuda', toggle_config=toggle_config_test)\n"
      ],
      "metadata": {
        "colab": {
          "base_uri": "https://localhost:8080/"
        },
        "id": "nyh6i_HsX_4p",
        "outputId": "a64ee5a8-203d-42c8-ea7a-8ff4a8cb54a4"
      },
      "execution_count": null,
      "outputs": [
        {
          "output_type": "stream",
          "name": "stderr",
          "text": [
            "<ipython-input-4-1accb224cb85>:59: UserWarning: To copy construct from a tensor, it is recommended to use sourceTensor.clone().detach() or sourceTensor.clone().detach().requires_grad_(True), rather than torch.tensor(sourceTensor).\n",
            "  weights = torch.tensor(self.analog_layer.get_weights()[0]).reshape(self.digital_layer.weight.shape)\n",
            "<ipython-input-4-1accb224cb85>:63: UserWarning: To copy construct from a tensor, it is recommended to use sourceTensor.clone().detach() or sourceTensor.clone().detach().requires_grad_(True), rather than torch.tensor(sourceTensor).\n",
            "  self.digital_layer.weight.data.copy_(torch.tensor(weights))\n",
            "<ipython-input-4-1accb224cb85>:64: UserWarning: To copy construct from a tensor, it is recommended to use sourceTensor.clone().detach() or sourceTensor.clone().detach().requires_grad_(True), rather than torch.tensor(sourceTensor).\n",
            "  self.digital_layer.bias.data.copy_(torch.tensor(bias))\n",
            "100%|██████████| 450/450 [00:19<00:00, 22.81it/s]\n"
          ]
        },
        {
          "output_type": "stream",
          "name": "stdout",
          "text": [
            "Epoch: [1]  loss: [2.54] Original_task_acc [20.89] animal_vs_non_animal_acc [76.61]\n"
          ]
        },
        {
          "output_type": "stream",
          "name": "stderr",
          "text": [
            "100%|██████████| 100/100 [00:04<00:00, 21.25it/s]\n"
          ]
        },
        {
          "output_type": "stream",
          "name": "stdout",
          "text": [
            "Test Epoch: [1]  loss: [3.11] Original_task_Acc [17.34] animal_vs_non_animal_acc [60.23]\n"
          ]
        },
        {
          "output_type": "stream",
          "name": "stderr",
          "text": [
            "100%|██████████| 450/450 [00:20<00:00, 22.18it/s]\n"
          ]
        },
        {
          "output_type": "stream",
          "name": "stdout",
          "text": [
            "Epoch: [2]  loss: [2.08] Original_task_acc [32.75] animal_vs_non_animal_acc [86.95]\n"
          ]
        },
        {
          "output_type": "stream",
          "name": "stderr",
          "text": [
            "100%|██████████| 100/100 [00:04<00:00, 20.33it/s]\n"
          ]
        },
        {
          "output_type": "stream",
          "name": "stdout",
          "text": [
            "Test Epoch: [2]  loss: [3.22] Original_task_Acc [18.14] animal_vs_non_animal_acc [52.85]\n"
          ]
        },
        {
          "output_type": "stream",
          "name": "stderr",
          "text": [
            "100%|██████████| 450/450 [00:19<00:00, 22.59it/s]\n"
          ]
        },
        {
          "output_type": "stream",
          "name": "stdout",
          "text": [
            "Epoch: [3]  loss: [1.98] Original_task_acc [37.30] animal_vs_non_animal_acc [87.75]\n"
          ]
        },
        {
          "output_type": "stream",
          "name": "stderr",
          "text": [
            "100%|██████████| 100/100 [00:04<00:00, 20.36it/s]\n"
          ]
        },
        {
          "output_type": "stream",
          "name": "stdout",
          "text": [
            "Test Epoch: [3]  loss: [3.11] Original_task_Acc [20.38] animal_vs_non_animal_acc [55.14]\n"
          ]
        },
        {
          "output_type": "stream",
          "name": "stderr",
          "text": [
            "100%|██████████| 450/450 [00:19<00:00, 22.61it/s]\n"
          ]
        },
        {
          "output_type": "stream",
          "name": "stdout",
          "text": [
            "Epoch: [4]  loss: [1.90] Original_task_acc [40.13] animal_vs_non_animal_acc [88.29]\n"
          ]
        },
        {
          "output_type": "stream",
          "name": "stderr",
          "text": [
            "100%|██████████| 100/100 [00:04<00:00, 20.59it/s]\n"
          ]
        },
        {
          "output_type": "stream",
          "name": "stdout",
          "text": [
            "Test Epoch: [4]  loss: [3.42] Original_task_Acc [20.26] animal_vs_non_animal_acc [48.42]\n"
          ]
        },
        {
          "output_type": "stream",
          "name": "stderr",
          "text": [
            "100%|██████████| 450/450 [00:19<00:00, 22.75it/s]\n"
          ]
        },
        {
          "output_type": "stream",
          "name": "stdout",
          "text": [
            "Epoch: [5]  loss: [1.84] Original_task_acc [42.23] animal_vs_non_animal_acc [88.90]\n"
          ]
        },
        {
          "output_type": "stream",
          "name": "stderr",
          "text": [
            "100%|██████████| 100/100 [00:04<00:00, 20.76it/s]\n"
          ]
        },
        {
          "output_type": "stream",
          "name": "stdout",
          "text": [
            "Test Epoch: [5]  loss: [4.17] Original_task_Acc [17.89] animal_vs_non_animal_acc [41.83]\n"
          ]
        },
        {
          "output_type": "stream",
          "name": "stderr",
          "text": [
            "100%|██████████| 450/450 [00:19<00:00, 22.65it/s]\n"
          ]
        },
        {
          "output_type": "stream",
          "name": "stdout",
          "text": [
            "Epoch: [6]  loss: [1.80] Original_task_acc [43.75] animal_vs_non_animal_acc [89.01]\n"
          ]
        },
        {
          "output_type": "stream",
          "name": "stderr",
          "text": [
            "100%|██████████| 100/100 [00:04<00:00, 20.99it/s]\n"
          ]
        },
        {
          "output_type": "stream",
          "name": "stdout",
          "text": [
            "Test Epoch: [6]  loss: [4.48] Original_task_Acc [17.64] animal_vs_non_animal_acc [42.83]\n"
          ]
        },
        {
          "output_type": "stream",
          "name": "stderr",
          "text": [
            "100%|██████████| 450/450 [00:19<00:00, 22.56it/s]\n"
          ]
        },
        {
          "output_type": "stream",
          "name": "stdout",
          "text": [
            "Epoch: [7]  loss: [1.77] Original_task_acc [44.85] animal_vs_non_animal_acc [89.13]\n"
          ]
        },
        {
          "output_type": "stream",
          "name": "stderr",
          "text": [
            "100%|██████████| 100/100 [00:04<00:00, 21.17it/s]\n"
          ]
        },
        {
          "output_type": "stream",
          "name": "stdout",
          "text": [
            "Test Epoch: [7]  loss: [3.84] Original_task_Acc [19.77] animal_vs_non_animal_acc [48.46]\n"
          ]
        },
        {
          "output_type": "stream",
          "name": "stderr",
          "text": [
            "100%|██████████| 450/450 [00:20<00:00, 22.47it/s]\n"
          ]
        },
        {
          "output_type": "stream",
          "name": "stdout",
          "text": [
            "Epoch: [8]  loss: [1.75] Original_task_acc [45.65] animal_vs_non_animal_acc [89.35]\n"
          ]
        },
        {
          "output_type": "stream",
          "name": "stderr",
          "text": [
            "100%|██████████| 100/100 [00:04<00:00, 21.28it/s]\n"
          ]
        },
        {
          "output_type": "stream",
          "name": "stdout",
          "text": [
            "Test Epoch: [8]  loss: [4.58] Original_task_Acc [16.85] animal_vs_non_animal_acc [43.65]\n"
          ]
        },
        {
          "output_type": "stream",
          "name": "stderr",
          "text": [
            "100%|██████████| 450/450 [00:20<00:00, 22.30it/s]\n"
          ]
        },
        {
          "output_type": "stream",
          "name": "stdout",
          "text": [
            "Epoch: [9]  loss: [1.72] Original_task_acc [46.58] animal_vs_non_animal_acc [89.53]\n"
          ]
        },
        {
          "output_type": "stream",
          "name": "stderr",
          "text": [
            "100%|██████████| 100/100 [00:04<00:00, 21.46it/s]\n"
          ]
        },
        {
          "output_type": "stream",
          "name": "stdout",
          "text": [
            "Test Epoch: [9]  loss: [5.27] Original_task_Acc [15.60] animal_vs_non_animal_acc [41.81]\n"
          ]
        },
        {
          "output_type": "stream",
          "name": "stderr",
          "text": [
            "100%|██████████| 450/450 [00:19<00:00, 22.56it/s]\n"
          ]
        },
        {
          "output_type": "stream",
          "name": "stdout",
          "text": [
            "Epoch: [10]  loss: [1.71] Original_task_acc [47.22] animal_vs_non_animal_acc [89.67]\n"
          ]
        },
        {
          "output_type": "stream",
          "name": "stderr",
          "text": [
            "100%|██████████| 100/100 [00:04<00:00, 21.74it/s]\n"
          ]
        },
        {
          "output_type": "stream",
          "name": "stdout",
          "text": [
            "Test Epoch: [10]  loss: [5.31] Original_task_Acc [16.14] animal_vs_non_animal_acc [41.76]\n"
          ]
        },
        {
          "output_type": "stream",
          "name": "stderr",
          "text": [
            "100%|██████████| 450/450 [00:19<00:00, 22.51it/s]\n"
          ]
        },
        {
          "output_type": "stream",
          "name": "stdout",
          "text": [
            "Epoch: [11]  loss: [1.69] Original_task_acc [47.66] animal_vs_non_animal_acc [89.91]\n"
          ]
        },
        {
          "output_type": "stream",
          "name": "stderr",
          "text": [
            "100%|██████████| 100/100 [00:04<00:00, 22.10it/s]\n"
          ]
        },
        {
          "output_type": "stream",
          "name": "stdout",
          "text": [
            "Test Epoch: [11]  loss: [5.35] Original_task_Acc [16.19] animal_vs_non_animal_acc [41.89]\n"
          ]
        },
        {
          "output_type": "stream",
          "name": "stderr",
          "text": [
            "100%|██████████| 450/450 [00:20<00:00, 22.26it/s]\n"
          ]
        },
        {
          "output_type": "stream",
          "name": "stdout",
          "text": [
            "Epoch: [12]  loss: [1.68] Original_task_acc [47.84] animal_vs_non_animal_acc [89.92]\n"
          ]
        },
        {
          "output_type": "stream",
          "name": "stderr",
          "text": [
            "100%|██████████| 100/100 [00:04<00:00, 22.94it/s]\n"
          ]
        },
        {
          "output_type": "stream",
          "name": "stdout",
          "text": [
            "Test Epoch: [12]  loss: [4.83] Original_task_Acc [17.55] animal_vs_non_animal_acc [43.81]\n"
          ]
        },
        {
          "output_type": "stream",
          "name": "stderr",
          "text": [
            "100%|██████████| 450/450 [00:20<00:00, 22.21it/s]\n"
          ]
        },
        {
          "output_type": "stream",
          "name": "stdout",
          "text": [
            "Epoch: [13]  loss: [1.65] Original_task_acc [48.62] animal_vs_non_animal_acc [90.23]\n"
          ]
        },
        {
          "output_type": "stream",
          "name": "stderr",
          "text": [
            "100%|██████████| 100/100 [00:04<00:00, 22.83it/s]\n"
          ]
        },
        {
          "output_type": "stream",
          "name": "stdout",
          "text": [
            "Test Epoch: [13]  loss: [5.29] Original_task_Acc [15.42] animal_vs_non_animal_acc [41.44]\n"
          ]
        },
        {
          "output_type": "stream",
          "name": "stderr",
          "text": [
            "100%|██████████| 450/450 [00:20<00:00, 22.15it/s]\n"
          ]
        },
        {
          "output_type": "stream",
          "name": "stdout",
          "text": [
            "Epoch: [14]  loss: [1.64] Original_task_acc [49.42] animal_vs_non_animal_acc [90.20]\n"
          ]
        },
        {
          "output_type": "stream",
          "name": "stderr",
          "text": [
            "100%|██████████| 100/100 [00:04<00:00, 23.61it/s]\n"
          ]
        },
        {
          "output_type": "stream",
          "name": "stdout",
          "text": [
            "Test Epoch: [14]  loss: [5.34] Original_task_Acc [16.96] animal_vs_non_animal_acc [42.26]\n"
          ]
        },
        {
          "output_type": "stream",
          "name": "stderr",
          "text": [
            "100%|██████████| 450/450 [00:20<00:00, 21.99it/s]\n"
          ]
        },
        {
          "output_type": "stream",
          "name": "stdout",
          "text": [
            "Epoch: [15]  loss: [1.63] Original_task_acc [49.68] animal_vs_non_animal_acc [90.08]\n"
          ]
        },
        {
          "output_type": "stream",
          "name": "stderr",
          "text": [
            "100%|██████████| 100/100 [00:04<00:00, 23.77it/s]\n"
          ]
        },
        {
          "output_type": "stream",
          "name": "stdout",
          "text": [
            "Test Epoch: [15]  loss: [5.23] Original_task_Acc [16.08] animal_vs_non_animal_acc [42.78]\n"
          ]
        },
        {
          "output_type": "stream",
          "name": "stderr",
          "text": [
            "100%|██████████| 450/450 [00:20<00:00, 21.79it/s]\n"
          ]
        },
        {
          "output_type": "stream",
          "name": "stdout",
          "text": [
            "Epoch: [16]  loss: [1.62] Original_task_acc [49.67] animal_vs_non_animal_acc [90.45]\n"
          ]
        },
        {
          "output_type": "stream",
          "name": "stderr",
          "text": [
            "100%|██████████| 100/100 [00:04<00:00, 23.51it/s]\n"
          ]
        },
        {
          "output_type": "stream",
          "name": "stdout",
          "text": [
            "Test Epoch: [16]  loss: [4.86] Original_task_Acc [15.21] animal_vs_non_animal_acc [44.07]\n"
          ]
        },
        {
          "output_type": "stream",
          "name": "stderr",
          "text": [
            "100%|██████████| 450/450 [00:20<00:00, 22.11it/s]\n"
          ]
        },
        {
          "output_type": "stream",
          "name": "stdout",
          "text": [
            "Epoch: [17]  loss: [1.61] Original_task_acc [50.50] animal_vs_non_animal_acc [90.47]\n"
          ]
        },
        {
          "output_type": "stream",
          "name": "stderr",
          "text": [
            "100%|██████████| 100/100 [00:04<00:00, 24.26it/s]\n"
          ]
        },
        {
          "output_type": "stream",
          "name": "stdout",
          "text": [
            "Test Epoch: [17]  loss: [4.55] Original_task_Acc [16.61] animal_vs_non_animal_acc [46.53]\n"
          ]
        },
        {
          "output_type": "stream",
          "name": "stderr",
          "text": [
            "100%|██████████| 450/450 [00:20<00:00, 21.80it/s]\n"
          ]
        },
        {
          "output_type": "stream",
          "name": "stdout",
          "text": [
            "Epoch: [18]  loss: [1.60] Original_task_acc [50.45] animal_vs_non_animal_acc [90.68]\n"
          ]
        },
        {
          "output_type": "stream",
          "name": "stderr",
          "text": [
            "100%|██████████| 100/100 [00:04<00:00, 24.85it/s]\n"
          ]
        },
        {
          "output_type": "stream",
          "name": "stdout",
          "text": [
            "Test Epoch: [18]  loss: [5.01] Original_task_Acc [15.11] animal_vs_non_animal_acc [43.98]\n"
          ]
        },
        {
          "output_type": "stream",
          "name": "stderr",
          "text": [
            "100%|██████████| 450/450 [00:20<00:00, 21.72it/s]\n"
          ]
        },
        {
          "output_type": "stream",
          "name": "stdout",
          "text": [
            "Epoch: [19]  loss: [1.59] Original_task_acc [50.95] animal_vs_non_animal_acc [90.57]\n"
          ]
        },
        {
          "output_type": "stream",
          "name": "stderr",
          "text": [
            "100%|██████████| 100/100 [00:04<00:00, 24.34it/s]\n"
          ]
        },
        {
          "output_type": "stream",
          "name": "stdout",
          "text": [
            "Test Epoch: [19]  loss: [4.62] Original_task_Acc [16.13] animal_vs_non_animal_acc [46.34]\n"
          ]
        },
        {
          "output_type": "stream",
          "name": "stderr",
          "text": [
            "100%|██████████| 450/450 [00:20<00:00, 21.76it/s]\n"
          ]
        },
        {
          "output_type": "stream",
          "name": "stdout",
          "text": [
            "Epoch: [20]  loss: [1.58] Original_task_acc [51.31] animal_vs_non_animal_acc [90.63]\n"
          ]
        },
        {
          "output_type": "stream",
          "name": "stderr",
          "text": [
            "100%|██████████| 100/100 [00:04<00:00, 24.65it/s]\n"
          ]
        },
        {
          "output_type": "stream",
          "name": "stdout",
          "text": [
            "Test Epoch: [20]  loss: [5.75] Original_task_Acc [14.41] animal_vs_non_animal_acc [41.55]\n"
          ]
        },
        {
          "output_type": "stream",
          "name": "stderr",
          "text": [
            "100%|██████████| 450/450 [00:20<00:00, 21.77it/s]\n"
          ]
        },
        {
          "output_type": "stream",
          "name": "stdout",
          "text": [
            "Epoch: [21]  loss: [1.57] Original_task_acc [51.53] animal_vs_non_animal_acc [90.66]\n"
          ]
        },
        {
          "output_type": "stream",
          "name": "stderr",
          "text": [
            "100%|██████████| 100/100 [00:04<00:00, 24.92it/s]\n"
          ]
        },
        {
          "output_type": "stream",
          "name": "stdout",
          "text": [
            "Test Epoch: [21]  loss: [5.57] Original_task_Acc [15.15] animal_vs_non_animal_acc [42.14]\n"
          ]
        },
        {
          "output_type": "stream",
          "name": "stderr",
          "text": [
            "100%|██████████| 450/450 [00:20<00:00, 21.75it/s]\n"
          ]
        },
        {
          "output_type": "stream",
          "name": "stdout",
          "text": [
            "Epoch: [22]  loss: [1.57] Original_task_acc [51.72] animal_vs_non_animal_acc [90.72]\n"
          ]
        },
        {
          "output_type": "stream",
          "name": "stderr",
          "text": [
            "100%|██████████| 100/100 [00:04<00:00, 24.73it/s]\n"
          ]
        },
        {
          "output_type": "stream",
          "name": "stdout",
          "text": [
            "Test Epoch: [22]  loss: [4.85] Original_task_Acc [18.32] animal_vs_non_animal_acc [44.86]\n"
          ]
        },
        {
          "output_type": "stream",
          "name": "stderr",
          "text": [
            "100%|██████████| 450/450 [00:20<00:00, 21.76it/s]\n"
          ]
        },
        {
          "output_type": "stream",
          "name": "stdout",
          "text": [
            "Epoch: [23]  loss: [1.56] Original_task_acc [51.85] animal_vs_non_animal_acc [90.84]\n"
          ]
        },
        {
          "output_type": "stream",
          "name": "stderr",
          "text": [
            "100%|██████████| 100/100 [00:04<00:00, 24.64it/s]\n"
          ]
        },
        {
          "output_type": "stream",
          "name": "stdout",
          "text": [
            "Test Epoch: [23]  loss: [5.10] Original_task_Acc [14.95] animal_vs_non_animal_acc [43.70]\n"
          ]
        },
        {
          "output_type": "stream",
          "name": "stderr",
          "text": [
            "100%|██████████| 450/450 [00:20<00:00, 21.78it/s]\n"
          ]
        },
        {
          "output_type": "stream",
          "name": "stdout",
          "text": [
            "Epoch: [24]  loss: [1.55] Original_task_acc [52.13] animal_vs_non_animal_acc [90.93]\n"
          ]
        },
        {
          "output_type": "stream",
          "name": "stderr",
          "text": [
            "100%|██████████| 100/100 [00:04<00:00, 24.15it/s]\n"
          ]
        },
        {
          "output_type": "stream",
          "name": "stdout",
          "text": [
            "Test Epoch: [24]  loss: [4.60] Original_task_Acc [17.15] animal_vs_non_animal_acc [45.28]\n"
          ]
        },
        {
          "output_type": "stream",
          "name": "stderr",
          "text": [
            "100%|██████████| 450/450 [00:20<00:00, 21.70it/s]\n"
          ]
        },
        {
          "output_type": "stream",
          "name": "stdout",
          "text": [
            "Epoch: [25]  loss: [1.53] Original_task_acc [52.71] animal_vs_non_animal_acc [91.26]\n"
          ]
        },
        {
          "output_type": "stream",
          "name": "stderr",
          "text": [
            "100%|██████████| 100/100 [00:04<00:00, 24.52it/s]\n"
          ]
        },
        {
          "output_type": "stream",
          "name": "stdout",
          "text": [
            "Test Epoch: [25]  loss: [5.33] Original_task_Acc [14.63] animal_vs_non_animal_acc [42.53]\n"
          ]
        },
        {
          "output_type": "stream",
          "name": "stderr",
          "text": [
            "100%|██████████| 450/450 [00:20<00:00, 21.70it/s]\n"
          ]
        },
        {
          "output_type": "stream",
          "name": "stdout",
          "text": [
            "Epoch: [26]  loss: [1.53] Original_task_acc [52.58] animal_vs_non_animal_acc [91.00]\n"
          ]
        },
        {
          "output_type": "stream",
          "name": "stderr",
          "text": [
            "100%|██████████| 100/100 [00:04<00:00, 24.82it/s]\n"
          ]
        },
        {
          "output_type": "stream",
          "name": "stdout",
          "text": [
            "Test Epoch: [26]  loss: [5.14] Original_task_Acc [16.52] animal_vs_non_animal_acc [43.12]\n"
          ]
        },
        {
          "output_type": "stream",
          "name": "stderr",
          "text": [
            "100%|██████████| 450/450 [00:20<00:00, 21.68it/s]\n"
          ]
        },
        {
          "output_type": "stream",
          "name": "stdout",
          "text": [
            "Epoch: [27]  loss: [1.52] Original_task_acc [53.09] animal_vs_non_animal_acc [91.13]\n"
          ]
        },
        {
          "output_type": "stream",
          "name": "stderr",
          "text": [
            "100%|██████████| 100/100 [00:03<00:00, 25.06it/s]\n"
          ]
        },
        {
          "output_type": "stream",
          "name": "stdout",
          "text": [
            "Test Epoch: [27]  loss: [4.55] Original_task_Acc [18.26] animal_vs_non_animal_acc [46.54]\n"
          ]
        },
        {
          "output_type": "stream",
          "name": "stderr",
          "text": [
            "100%|██████████| 450/450 [00:20<00:00, 21.75it/s]\n"
          ]
        },
        {
          "output_type": "stream",
          "name": "stdout",
          "text": [
            "Epoch: [28]  loss: [1.52] Original_task_acc [53.04] animal_vs_non_animal_acc [91.28]\n"
          ]
        },
        {
          "output_type": "stream",
          "name": "stderr",
          "text": [
            "100%|██████████| 100/100 [00:04<00:00, 24.32it/s]\n"
          ]
        },
        {
          "output_type": "stream",
          "name": "stdout",
          "text": [
            "Test Epoch: [28]  loss: [4.96] Original_task_Acc [16.44] animal_vs_non_animal_acc [44.82]\n"
          ]
        },
        {
          "output_type": "stream",
          "name": "stderr",
          "text": [
            "100%|██████████| 450/450 [00:20<00:00, 21.74it/s]\n"
          ]
        },
        {
          "output_type": "stream",
          "name": "stdout",
          "text": [
            "Epoch: [29]  loss: [1.52] Original_task_acc [53.47] animal_vs_non_animal_acc [91.20]\n"
          ]
        },
        {
          "output_type": "stream",
          "name": "stderr",
          "text": [
            "100%|██████████| 100/100 [00:04<00:00, 24.74it/s]\n"
          ]
        },
        {
          "output_type": "stream",
          "name": "stdout",
          "text": [
            "Test Epoch: [29]  loss: [4.72] Original_task_Acc [16.76] animal_vs_non_animal_acc [45.94]\n"
          ]
        },
        {
          "output_type": "stream",
          "name": "stderr",
          "text": [
            "100%|██████████| 450/450 [00:20<00:00, 21.80it/s]\n"
          ]
        },
        {
          "output_type": "stream",
          "name": "stdout",
          "text": [
            "Epoch: [30]  loss: [1.51] Original_task_acc [53.52] animal_vs_non_animal_acc [91.21]\n"
          ]
        },
        {
          "output_type": "stream",
          "name": "stderr",
          "text": [
            "100%|██████████| 100/100 [00:03<00:00, 25.02it/s]\n"
          ]
        },
        {
          "output_type": "stream",
          "name": "stdout",
          "text": [
            "Test Epoch: [30]  loss: [5.12] Original_task_Acc [17.27] animal_vs_non_animal_acc [44.02]\n"
          ]
        },
        {
          "output_type": "stream",
          "name": "stderr",
          "text": [
            "100%|██████████| 450/450 [00:20<00:00, 21.74it/s]\n"
          ]
        },
        {
          "output_type": "stream",
          "name": "stdout",
          "text": [
            "Epoch: [31]  loss: [1.50] Original_task_acc [53.69] animal_vs_non_animal_acc [91.34]\n"
          ]
        },
        {
          "output_type": "stream",
          "name": "stderr",
          "text": [
            "100%|██████████| 100/100 [00:03<00:00, 25.01it/s]\n"
          ]
        },
        {
          "output_type": "stream",
          "name": "stdout",
          "text": [
            "Test Epoch: [31]  loss: [5.21] Original_task_Acc [16.69] animal_vs_non_animal_acc [45.35]\n"
          ]
        },
        {
          "output_type": "stream",
          "name": "stderr",
          "text": [
            "100%|██████████| 450/450 [00:20<00:00, 21.82it/s]\n"
          ]
        },
        {
          "output_type": "stream",
          "name": "stdout",
          "text": [
            "Epoch: [32]  loss: [1.50] Original_task_acc [53.56] animal_vs_non_animal_acc [91.38]\n"
          ]
        },
        {
          "output_type": "stream",
          "name": "stderr",
          "text": [
            "100%|██████████| 100/100 [00:04<00:00, 24.66it/s]\n"
          ]
        },
        {
          "output_type": "stream",
          "name": "stdout",
          "text": [
            "Test Epoch: [32]  loss: [4.67] Original_task_Acc [16.94] animal_vs_non_animal_acc [45.90]\n"
          ]
        },
        {
          "output_type": "stream",
          "name": "stderr",
          "text": [
            "100%|██████████| 450/450 [00:20<00:00, 21.81it/s]\n"
          ]
        },
        {
          "output_type": "stream",
          "name": "stdout",
          "text": [
            "Epoch: [33]  loss: [1.49] Original_task_acc [53.95] animal_vs_non_animal_acc [91.51]\n"
          ]
        },
        {
          "output_type": "stream",
          "name": "stderr",
          "text": [
            "100%|██████████| 100/100 [00:04<00:00, 24.49it/s]\n"
          ]
        },
        {
          "output_type": "stream",
          "name": "stdout",
          "text": [
            "Test Epoch: [33]  loss: [4.58] Original_task_Acc [17.82] animal_vs_non_animal_acc [46.58]\n"
          ]
        },
        {
          "output_type": "stream",
          "name": "stderr",
          "text": [
            "100%|██████████| 450/450 [00:20<00:00, 21.49it/s]\n"
          ]
        },
        {
          "output_type": "stream",
          "name": "stdout",
          "text": [
            "Epoch: [34]  loss: [1.48] Original_task_acc [54.10] animal_vs_non_animal_acc [91.66]\n"
          ]
        },
        {
          "output_type": "stream",
          "name": "stderr",
          "text": [
            "100%|██████████| 100/100 [00:04<00:00, 23.72it/s]\n"
          ]
        },
        {
          "output_type": "stream",
          "name": "stdout",
          "text": [
            "Test Epoch: [34]  loss: [6.50] Original_task_Acc [14.88] animal_vs_non_animal_acc [41.30]\n"
          ]
        },
        {
          "output_type": "stream",
          "name": "stderr",
          "text": [
            "100%|██████████| 450/450 [00:21<00:00, 20.88it/s]\n"
          ]
        },
        {
          "output_type": "stream",
          "name": "stdout",
          "text": [
            "Epoch: [35]  loss: [1.49] Original_task_acc [53.86] animal_vs_non_animal_acc [91.28]\n"
          ]
        },
        {
          "output_type": "stream",
          "name": "stderr",
          "text": [
            "100%|██████████| 100/100 [00:04<00:00, 23.73it/s]\n"
          ]
        },
        {
          "output_type": "stream",
          "name": "stdout",
          "text": [
            "Test Epoch: [35]  loss: [4.55] Original_task_Acc [18.10] animal_vs_non_animal_acc [47.21]\n"
          ]
        },
        {
          "output_type": "stream",
          "name": "stderr",
          "text": [
            "100%|██████████| 450/450 [00:21<00:00, 20.61it/s]\n"
          ]
        },
        {
          "output_type": "stream",
          "name": "stdout",
          "text": [
            "Epoch: [36]  loss: [1.48] Original_task_acc [54.57] animal_vs_non_animal_acc [91.40]\n"
          ]
        },
        {
          "output_type": "stream",
          "name": "stderr",
          "text": [
            "100%|██████████| 100/100 [00:04<00:00, 22.51it/s]\n"
          ]
        },
        {
          "output_type": "stream",
          "name": "stdout",
          "text": [
            "Test Epoch: [36]  loss: [4.70] Original_task_Acc [18.96] animal_vs_non_animal_acc [47.20]\n"
          ]
        },
        {
          "output_type": "stream",
          "name": "stderr",
          "text": [
            "100%|██████████| 450/450 [00:21<00:00, 20.95it/s]\n"
          ]
        },
        {
          "output_type": "stream",
          "name": "stdout",
          "text": [
            "Epoch: [37]  loss: [1.47] Original_task_acc [54.55] animal_vs_non_animal_acc [91.76]\n"
          ]
        },
        {
          "output_type": "stream",
          "name": "stderr",
          "text": [
            "100%|██████████| 100/100 [00:04<00:00, 20.48it/s]\n"
          ]
        },
        {
          "output_type": "stream",
          "name": "stdout",
          "text": [
            "Test Epoch: [37]  loss: [4.78] Original_task_Acc [18.83] animal_vs_non_animal_acc [45.99]\n"
          ]
        },
        {
          "output_type": "stream",
          "name": "stderr",
          "text": [
            "100%|██████████| 450/450 [00:20<00:00, 21.47it/s]\n"
          ]
        },
        {
          "output_type": "stream",
          "name": "stdout",
          "text": [
            "Epoch: [38]  loss: [1.48] Original_task_acc [54.56] animal_vs_non_animal_acc [91.60]\n"
          ]
        },
        {
          "output_type": "stream",
          "name": "stderr",
          "text": [
            "100%|██████████| 100/100 [00:05<00:00, 19.59it/s]\n"
          ]
        },
        {
          "output_type": "stream",
          "name": "stdout",
          "text": [
            "Test Epoch: [38]  loss: [5.31] Original_task_Acc [16.56] animal_vs_non_animal_acc [44.16]\n"
          ]
        },
        {
          "output_type": "stream",
          "name": "stderr",
          "text": [
            "100%|██████████| 450/450 [00:20<00:00, 21.70it/s]\n"
          ]
        },
        {
          "output_type": "stream",
          "name": "stdout",
          "text": [
            "Epoch: [39]  loss: [1.46] Original_task_acc [54.56] animal_vs_non_animal_acc [91.60]\n"
          ]
        },
        {
          "output_type": "stream",
          "name": "stderr",
          "text": [
            "100%|██████████| 100/100 [00:05<00:00, 19.73it/s]\n"
          ]
        },
        {
          "output_type": "stream",
          "name": "stdout",
          "text": [
            "Test Epoch: [39]  loss: [4.36] Original_task_Acc [20.05] animal_vs_non_animal_acc [47.58]\n"
          ]
        },
        {
          "output_type": "stream",
          "name": "stderr",
          "text": [
            "100%|██████████| 450/450 [00:20<00:00, 21.80it/s]\n"
          ]
        },
        {
          "output_type": "stream",
          "name": "stdout",
          "text": [
            "Epoch: [40]  loss: [1.46] Original_task_acc [55.06] animal_vs_non_animal_acc [91.59]\n"
          ]
        },
        {
          "output_type": "stream",
          "name": "stderr",
          "text": [
            "100%|██████████| 100/100 [00:05<00:00, 19.47it/s]\n"
          ]
        },
        {
          "output_type": "stream",
          "name": "stdout",
          "text": [
            "Test Epoch: [40]  loss: [4.73] Original_task_Acc [20.23] animal_vs_non_animal_acc [47.35]\n"
          ]
        },
        {
          "output_type": "stream",
          "name": "stderr",
          "text": [
            "100%|██████████| 450/450 [00:20<00:00, 21.70it/s]\n"
          ]
        },
        {
          "output_type": "stream",
          "name": "stdout",
          "text": [
            "Epoch: [41]  loss: [1.46] Original_task_acc [54.83] animal_vs_non_animal_acc [91.66]\n"
          ]
        },
        {
          "output_type": "stream",
          "name": "stderr",
          "text": [
            "100%|██████████| 100/100 [00:05<00:00, 19.43it/s]\n"
          ]
        },
        {
          "output_type": "stream",
          "name": "stdout",
          "text": [
            "Test Epoch: [41]  loss: [4.41] Original_task_Acc [19.21] animal_vs_non_animal_acc [48.79]\n"
          ]
        },
        {
          "output_type": "stream",
          "name": "stderr",
          "text": [
            "100%|██████████| 450/450 [00:21<00:00, 21.17it/s]\n"
          ]
        },
        {
          "output_type": "stream",
          "name": "stdout",
          "text": [
            "Epoch: [42]  loss: [1.46] Original_task_acc [54.87] animal_vs_non_animal_acc [91.74]\n"
          ]
        },
        {
          "output_type": "stream",
          "name": "stderr",
          "text": [
            "100%|██████████| 100/100 [00:04<00:00, 20.96it/s]\n"
          ]
        },
        {
          "output_type": "stream",
          "name": "stdout",
          "text": [
            "Test Epoch: [42]  loss: [5.04] Original_task_Acc [17.34] animal_vs_non_animal_acc [44.72]\n"
          ]
        },
        {
          "output_type": "stream",
          "name": "stderr",
          "text": [
            "100%|██████████| 450/450 [00:21<00:00, 20.88it/s]\n"
          ]
        },
        {
          "output_type": "stream",
          "name": "stdout",
          "text": [
            "Epoch: [43]  loss: [1.45] Original_task_acc [54.92] animal_vs_non_animal_acc [91.62]\n"
          ]
        },
        {
          "output_type": "stream",
          "name": "stderr",
          "text": [
            "100%|██████████| 100/100 [00:04<00:00, 22.68it/s]\n"
          ]
        },
        {
          "output_type": "stream",
          "name": "stdout",
          "text": [
            "Test Epoch: [43]  loss: [4.69] Original_task_Acc [19.16] animal_vs_non_animal_acc [46.87]\n"
          ]
        },
        {
          "output_type": "stream",
          "name": "stderr",
          "text": [
            "100%|██████████| 450/450 [00:21<00:00, 20.63it/s]\n"
          ]
        },
        {
          "output_type": "stream",
          "name": "stdout",
          "text": [
            "Epoch: [44]  loss: [1.45] Original_task_acc [54.97] animal_vs_non_animal_acc [91.77]\n"
          ]
        },
        {
          "output_type": "stream",
          "name": "stderr",
          "text": [
            "100%|██████████| 100/100 [00:04<00:00, 23.25it/s]\n"
          ]
        },
        {
          "output_type": "stream",
          "name": "stdout",
          "text": [
            "Test Epoch: [44]  loss: [5.29] Original_task_Acc [16.67] animal_vs_non_animal_acc [44.00]\n"
          ]
        },
        {
          "output_type": "stream",
          "name": "stderr",
          "text": [
            "100%|██████████| 450/450 [00:21<00:00, 20.72it/s]\n"
          ]
        },
        {
          "output_type": "stream",
          "name": "stdout",
          "text": [
            "Epoch: [45]  loss: [1.45] Original_task_acc [55.25] animal_vs_non_animal_acc [91.82]\n"
          ]
        },
        {
          "output_type": "stream",
          "name": "stderr",
          "text": [
            "100%|██████████| 100/100 [00:04<00:00, 23.67it/s]\n"
          ]
        },
        {
          "output_type": "stream",
          "name": "stdout",
          "text": [
            "Test Epoch: [45]  loss: [5.02] Original_task_Acc [18.23] animal_vs_non_animal_acc [46.14]\n"
          ]
        },
        {
          "output_type": "stream",
          "name": "stderr",
          "text": [
            "100%|██████████| 450/450 [00:21<00:00, 20.75it/s]\n"
          ]
        },
        {
          "output_type": "stream",
          "name": "stdout",
          "text": [
            "Epoch: [46]  loss: [1.44] Original_task_acc [55.42] animal_vs_non_animal_acc [91.86]\n"
          ]
        },
        {
          "output_type": "stream",
          "name": "stderr",
          "text": [
            "100%|██████████| 100/100 [00:04<00:00, 23.82it/s]\n"
          ]
        },
        {
          "output_type": "stream",
          "name": "stdout",
          "text": [
            "Test Epoch: [46]  loss: [4.74] Original_task_Acc [19.02] animal_vs_non_animal_acc [47.75]\n"
          ]
        },
        {
          "output_type": "stream",
          "name": "stderr",
          "text": [
            "100%|██████████| 450/450 [00:21<00:00, 20.81it/s]\n"
          ]
        },
        {
          "output_type": "stream",
          "name": "stdout",
          "text": [
            "Epoch: [47]  loss: [1.44] Original_task_acc [55.42] animal_vs_non_animal_acc [91.97]\n"
          ]
        },
        {
          "output_type": "stream",
          "name": "stderr",
          "text": [
            "100%|██████████| 100/100 [00:04<00:00, 23.78it/s]\n"
          ]
        },
        {
          "output_type": "stream",
          "name": "stdout",
          "text": [
            "Test Epoch: [47]  loss: [5.36] Original_task_Acc [17.69] animal_vs_non_animal_acc [43.99]\n"
          ]
        },
        {
          "output_type": "stream",
          "name": "stderr",
          "text": [
            "100%|██████████| 450/450 [00:21<00:00, 20.98it/s]\n"
          ]
        },
        {
          "output_type": "stream",
          "name": "stdout",
          "text": [
            "Epoch: [48]  loss: [1.43] Original_task_acc [55.49] animal_vs_non_animal_acc [92.04]\n"
          ]
        },
        {
          "output_type": "stream",
          "name": "stderr",
          "text": [
            "100%|██████████| 100/100 [00:04<00:00, 23.79it/s]\n"
          ]
        },
        {
          "output_type": "stream",
          "name": "stdout",
          "text": [
            "Test Epoch: [48]  loss: [4.89] Original_task_Acc [19.06] animal_vs_non_animal_acc [46.78]\n"
          ]
        },
        {
          "output_type": "stream",
          "name": "stderr",
          "text": [
            "100%|██████████| 450/450 [00:21<00:00, 20.73it/s]\n"
          ]
        },
        {
          "output_type": "stream",
          "name": "stdout",
          "text": [
            "Epoch: [49]  loss: [1.43] Original_task_acc [55.63] animal_vs_non_animal_acc [91.96]\n"
          ]
        },
        {
          "output_type": "stream",
          "name": "stderr",
          "text": [
            "100%|██████████| 100/100 [00:04<00:00, 23.72it/s]\n"
          ]
        },
        {
          "output_type": "stream",
          "name": "stdout",
          "text": [
            "Test Epoch: [49]  loss: [4.94] Original_task_Acc [18.48] animal_vs_non_animal_acc [45.13]\n"
          ]
        },
        {
          "output_type": "stream",
          "name": "stderr",
          "text": [
            "100%|██████████| 450/450 [00:21<00:00, 20.69it/s]\n"
          ]
        },
        {
          "output_type": "stream",
          "name": "stdout",
          "text": [
            "Epoch: [50]  loss: [1.43] Original_task_acc [55.57] animal_vs_non_animal_acc [92.01]\n"
          ]
        },
        {
          "output_type": "stream",
          "name": "stderr",
          "text": [
            "100%|██████████| 100/100 [00:04<00:00, 23.78it/s]"
          ]
        },
        {
          "output_type": "stream",
          "name": "stdout",
          "text": [
            "Test Epoch: [50]  loss: [5.27] Original_task_Acc [17.82] animal_vs_non_animal_acc [44.61]\n"
          ]
        },
        {
          "output_type": "stream",
          "name": "stderr",
          "text": [
            "\n"
          ]
        }
      ]
    }
  ]
}
